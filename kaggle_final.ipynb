{
 "cells": [
  {
   "cell_type": "markdown",
   "id": "26281ec3-a624-4bcf-aca5-1ec7745f0ce8",
   "metadata": {},
   "source": [
    "**Student Information**\n",
    "- Name: 賴琮運\n",
    "- Student ID: 112034571\n",
    "- GitHub ID: ggbdmn\n",
    "- Kaggle name: 112034571\n",
    "- Kaggle private scoreboard snapshot: /img/pic0.png"
   ]
  },
  {
   "cell_type": "code",
   "execution_count": 1,
   "id": "ce48bf9b-b1ed-49e9-984c-3202ae81c6c2",
   "metadata": {},
   "outputs": [],
   "source": [
    "import json\n",
    "import pandas as pd\n",
    "import numpy as np\n",
    "import torch\n",
    "import string\n",
    "import nltk\n",
    "import tensorflow as tf\n",
    "from sklearn.feature_extraction.text import TfidfVectorizer\n",
    "from gensim.models import Word2Vec\n",
    "from sklearn.model_selection import train_test_split\n",
    "from sklearn.preprocessing import LabelEncoder\n",
    "from torch.utils.data import DataLoader, TensorDataset\n",
    "from sklearn.decomposition import PCA\n",
    "from transformers import AutoTokenizer, AutoModel\n",
    "from nltk.stem import WordNetLemmatizer\n",
    "from textblob import TextBlob\n",
    "from contractions import fix\n",
    "import swifter\n",
    "from sklearn.metrics import classification_report, confusion_matrix\n",
    "from sklearn.ensemble import VotingClassifier\n",
    "import xgboost as xgb\n",
    "import lightgbm as lgb"
   ]
  },
  {
   "cell_type": "markdown",
   "id": "0c0ae4a0-dba4-4975-8f07-bb25c539248d",
   "metadata": {},
   "source": [
    "# Import Data with a fraction:"
   ]
  },
  {
   "cell_type": "code",
   "execution_count": 2,
   "id": "22239986-396c-4fb7-98c6-5ed7233279ba",
   "metadata": {},
   "outputs": [],
   "source": [
    "data = []\n",
    "with open('tweet/tweets_DM.json', 'r') as f:\n",
    "    for line in f:\n",
    "        data.append(json.loads(line)) \n",
    "f.close()\n",
    "\n",
    "emotion = pd.read_csv('tweet/emotion.csv')\n",
    "data_identification = pd.read_csv('tweet/data_identification.csv')\n",
    "\n",
    "df = pd.DataFrame(data)\n",
    "_source = df['_source'].apply(lambda x: x['tweet'])\n",
    "df = pd.DataFrame({\n",
    "    'tweet_id': _source.apply(lambda x: x['tweet_id']),\n",
    "    'hashtags': _source.apply(lambda x: x['hashtags']),\n",
    "    'text': _source.apply(lambda x: x['text']),\n",
    "})\n",
    "df = df.merge(data_identification, on='tweet_id', how='left')\n",
    "\n",
    "train_data = df[df['identification'] == 'train']\n",
    "test_data = df[df['identification'] == 'test']\n",
    "\n",
    "# Check if there is duplicated data.\n",
    "train_data = train_data.merge(emotion, on='tweet_id', how='left')\n",
    "train_data.drop_duplicates(subset=['text'], keep=False, inplace=True)\n",
    "\n",
    "train_data_sample = train_data.sample(frac=0.2, random_state=42) # Due to the large scale of the data. The fraction was set to 0.5 for the result on Kaggle.\n",
    "train_data_sample.to_pickle(\"train_dsample.pkl\")\n",
    "train_df = pd.read_pickle(\"train_dsample.pkl\")\n",
    "\n",
    "test_data.to_pickle(\"test_d.pkl\")\n",
    "test_df = pd.read_pickle(\"test_d.pkl\")"
   ]
  },
  {
   "cell_type": "code",
   "execution_count": 4,
   "id": "e00df7a7-7d1b-4fb1-9328-bb9eeef9d385",
   "metadata": {},
   "outputs": [
    {
     "data": {
      "text/html": [
       "<div>\n",
       "<style scoped>\n",
       "    .dataframe tbody tr th:only-of-type {\n",
       "        vertical-align: middle;\n",
       "    }\n",
       "\n",
       "    .dataframe tbody tr th {\n",
       "        vertical-align: top;\n",
       "    }\n",
       "\n",
       "    .dataframe thead th {\n",
       "        text-align: right;\n",
       "    }\n",
       "</style>\n",
       "<table border=\"1\" class=\"dataframe\">\n",
       "  <thead>\n",
       "    <tr style=\"text-align: right;\">\n",
       "      <th></th>\n",
       "      <th>tweet_id</th>\n",
       "      <th>hashtags</th>\n",
       "      <th>text</th>\n",
       "      <th>identification</th>\n",
       "      <th>emotion</th>\n",
       "    </tr>\n",
       "  </thead>\n",
       "  <tbody>\n",
       "    <tr>\n",
       "      <th>861298</th>\n",
       "      <td>0x29573d</td>\n",
       "      <td>[]</td>\n",
       "      <td>@SuicideGirls I will feel high anywhere with t...</td>\n",
       "      <td>train</td>\n",
       "      <td>joy</td>\n",
       "    </tr>\n",
       "    <tr>\n",
       "      <th>1162037</th>\n",
       "      <td>0x33a0d6</td>\n",
       "      <td>[Unconscionable]</td>\n",
       "      <td>@SenBobCorker I am a Democrat &amp; I applaud your...</td>\n",
       "      <td>train</td>\n",
       "      <td>disgust</td>\n",
       "    </tr>\n",
       "    <tr>\n",
       "      <th>127464</th>\n",
       "      <td>0x22f649</td>\n",
       "      <td>[ReignCane]</td>\n",
       "      <td>Tulsa showing me some love! &lt;LH&gt; #ReignCane @C...</td>\n",
       "      <td>train</td>\n",
       "      <td>trust</td>\n",
       "    </tr>\n",
       "    <tr>\n",
       "      <th>1216259</th>\n",
       "      <td>0x207fd5</td>\n",
       "      <td>[]</td>\n",
       "      <td>@CNN Why now? Why not when obama was president...</td>\n",
       "      <td>train</td>\n",
       "      <td>surprise</td>\n",
       "    </tr>\n",
       "    <tr>\n",
       "      <th>630563</th>\n",
       "      <td>0x34d404</td>\n",
       "      <td>[]</td>\n",
       "      <td>@jtonerv @rajivj @a2zUserGroup Is that a cardb...</td>\n",
       "      <td>train</td>\n",
       "      <td>joy</td>\n",
       "    </tr>\n",
       "    <tr>\n",
       "      <th>...</th>\n",
       "      <td>...</td>\n",
       "      <td>...</td>\n",
       "      <td>...</td>\n",
       "      <td>...</td>\n",
       "      <td>...</td>\n",
       "    </tr>\n",
       "    <tr>\n",
       "      <th>569918</th>\n",
       "      <td>0x317d0c</td>\n",
       "      <td>[]</td>\n",
       "      <td>When you watch the charger game but you rememb...</td>\n",
       "      <td>train</td>\n",
       "      <td>sadness</td>\n",
       "    </tr>\n",
       "    <tr>\n",
       "      <th>1101307</th>\n",
       "      <td>0x3012f8</td>\n",
       "      <td>[hullfc]</td>\n",
       "      <td>Ok, tomorrow is effectively a quarter final an...</td>\n",
       "      <td>train</td>\n",
       "      <td>anticipation</td>\n",
       "    </tr>\n",
       "    <tr>\n",
       "      <th>1125339</th>\n",
       "      <td>0x321643</td>\n",
       "      <td>[]</td>\n",
       "      <td>@TheView Apple slices...salted. I know, &lt;LH&gt;</td>\n",
       "      <td>train</td>\n",
       "      <td>surprise</td>\n",
       "    </tr>\n",
       "    <tr>\n",
       "      <th>671004</th>\n",
       "      <td>0x1fdf98</td>\n",
       "      <td>[]</td>\n",
       "      <td>Sometimes I am just so very &lt;LH&gt;</td>\n",
       "      <td>train</td>\n",
       "      <td>sadness</td>\n",
       "    </tr>\n",
       "    <tr>\n",
       "      <th>650422</th>\n",
       "      <td>0x1f15fd</td>\n",
       "      <td>[ThankYouLord]</td>\n",
       "      <td>It's because of nothing that I have done. It's...</td>\n",
       "      <td>train</td>\n",
       "      <td>trust</td>\n",
       "    </tr>\n",
       "  </tbody>\n",
       "</table>\n",
       "<p>289836 rows × 5 columns</p>\n",
       "</div>"
      ],
      "text/plain": [
       "         tweet_id          hashtags  \\\n",
       "861298   0x29573d                []   \n",
       "1162037  0x33a0d6  [Unconscionable]   \n",
       "127464   0x22f649       [ReignCane]   \n",
       "1216259  0x207fd5                []   \n",
       "630563   0x34d404                []   \n",
       "...           ...               ...   \n",
       "569918   0x317d0c                []   \n",
       "1101307  0x3012f8          [hullfc]   \n",
       "1125339  0x321643                []   \n",
       "671004   0x1fdf98                []   \n",
       "650422   0x1f15fd    [ThankYouLord]   \n",
       "\n",
       "                                                      text identification  \\\n",
       "861298   @SuicideGirls I will feel high anywhere with t...          train   \n",
       "1162037  @SenBobCorker I am a Democrat & I applaud your...          train   \n",
       "127464   Tulsa showing me some love! <LH> #ReignCane @C...          train   \n",
       "1216259  @CNN Why now? Why not when obama was president...          train   \n",
       "630563   @jtonerv @rajivj @a2zUserGroup Is that a cardb...          train   \n",
       "...                                                    ...            ...   \n",
       "569918   When you watch the charger game but you rememb...          train   \n",
       "1101307  Ok, tomorrow is effectively a quarter final an...          train   \n",
       "1125339       @TheView Apple slices...salted. I know, <LH>          train   \n",
       "671004                    Sometimes I am just so very <LH>          train   \n",
       "650422   It's because of nothing that I have done. It's...          train   \n",
       "\n",
       "              emotion  \n",
       "861298            joy  \n",
       "1162037       disgust  \n",
       "127464          trust  \n",
       "1216259      surprise  \n",
       "630563            joy  \n",
       "...               ...  \n",
       "569918        sadness  \n",
       "1101307  anticipation  \n",
       "1125339      surprise  \n",
       "671004        sadness  \n",
       "650422          trust  \n",
       "\n",
       "[289836 rows x 5 columns]"
      ]
     },
     "execution_count": 4,
     "metadata": {},
     "output_type": "execute_result"
    }
   ],
   "source": [
    "train_df"
   ]
  },
  {
   "cell_type": "code",
   "execution_count": 5,
   "id": "27fdffb7-a087-470d-a474-d6edcec06f29",
   "metadata": {},
   "outputs": [
    {
     "data": {
      "text/html": [
       "<div>\n",
       "<style scoped>\n",
       "    .dataframe tbody tr th:only-of-type {\n",
       "        vertical-align: middle;\n",
       "    }\n",
       "\n",
       "    .dataframe tbody tr th {\n",
       "        vertical-align: top;\n",
       "    }\n",
       "\n",
       "    .dataframe thead th {\n",
       "        text-align: right;\n",
       "    }\n",
       "</style>\n",
       "<table border=\"1\" class=\"dataframe\">\n",
       "  <thead>\n",
       "    <tr style=\"text-align: right;\">\n",
       "      <th></th>\n",
       "      <th>tweet_id</th>\n",
       "      <th>hashtags</th>\n",
       "      <th>text</th>\n",
       "      <th>identification</th>\n",
       "    </tr>\n",
       "  </thead>\n",
       "  <tbody>\n",
       "    <tr>\n",
       "      <th>2</th>\n",
       "      <td>0x28b412</td>\n",
       "      <td>[bibleverse]</td>\n",
       "      <td>Confident of your obedience, I write to you, k...</td>\n",
       "      <td>test</td>\n",
       "    </tr>\n",
       "    <tr>\n",
       "      <th>4</th>\n",
       "      <td>0x2de201</td>\n",
       "      <td>[]</td>\n",
       "      <td>\"Trust is not the same as faith. A friend is s...</td>\n",
       "      <td>test</td>\n",
       "    </tr>\n",
       "    <tr>\n",
       "      <th>9</th>\n",
       "      <td>0x218443</td>\n",
       "      <td>[materialism, money, possessions]</td>\n",
       "      <td>When do you have enough ? When are you satisfi...</td>\n",
       "      <td>test</td>\n",
       "    </tr>\n",
       "    <tr>\n",
       "      <th>30</th>\n",
       "      <td>0x2939d5</td>\n",
       "      <td>[GodsPlan, GodsWork]</td>\n",
       "      <td>God woke you up, now chase the day #GodsPlan #...</td>\n",
       "      <td>test</td>\n",
       "    </tr>\n",
       "    <tr>\n",
       "      <th>33</th>\n",
       "      <td>0x26289a</td>\n",
       "      <td>[]</td>\n",
       "      <td>In these tough times, who do YOU turn to as yo...</td>\n",
       "      <td>test</td>\n",
       "    </tr>\n",
       "    <tr>\n",
       "      <th>...</th>\n",
       "      <td>...</td>\n",
       "      <td>...</td>\n",
       "      <td>...</td>\n",
       "      <td>...</td>\n",
       "    </tr>\n",
       "    <tr>\n",
       "      <th>1867525</th>\n",
       "      <td>0x2913b4</td>\n",
       "      <td>[]</td>\n",
       "      <td>\"For this is the message that ye heard from th...</td>\n",
       "      <td>test</td>\n",
       "    </tr>\n",
       "    <tr>\n",
       "      <th>1867529</th>\n",
       "      <td>0x2a980e</td>\n",
       "      <td>[]</td>\n",
       "      <td>\"There is a lad here, which hath five barley l...</td>\n",
       "      <td>test</td>\n",
       "    </tr>\n",
       "    <tr>\n",
       "      <th>1867530</th>\n",
       "      <td>0x316b80</td>\n",
       "      <td>[mixedfeeling, butimTHATperson]</td>\n",
       "      <td>When you buy the last 2 tickets remaining for ...</td>\n",
       "      <td>test</td>\n",
       "    </tr>\n",
       "    <tr>\n",
       "      <th>1867531</th>\n",
       "      <td>0x29d0cb</td>\n",
       "      <td>[]</td>\n",
       "      <td>I swear all this hard work gone pay off one da...</td>\n",
       "      <td>test</td>\n",
       "    </tr>\n",
       "    <tr>\n",
       "      <th>1867532</th>\n",
       "      <td>0x2a6a4f</td>\n",
       "      <td>[]</td>\n",
       "      <td>@Parcel2Go no card left when I wasn't in so I ...</td>\n",
       "      <td>test</td>\n",
       "    </tr>\n",
       "  </tbody>\n",
       "</table>\n",
       "<p>411972 rows × 4 columns</p>\n",
       "</div>"
      ],
      "text/plain": [
       "         tweet_id                           hashtags  \\\n",
       "2        0x28b412                       [bibleverse]   \n",
       "4        0x2de201                                 []   \n",
       "9        0x218443  [materialism, money, possessions]   \n",
       "30       0x2939d5               [GodsPlan, GodsWork]   \n",
       "33       0x26289a                                 []   \n",
       "...           ...                                ...   \n",
       "1867525  0x2913b4                                 []   \n",
       "1867529  0x2a980e                                 []   \n",
       "1867530  0x316b80    [mixedfeeling, butimTHATperson]   \n",
       "1867531  0x29d0cb                                 []   \n",
       "1867532  0x2a6a4f                                 []   \n",
       "\n",
       "                                                      text identification  \n",
       "2        Confident of your obedience, I write to you, k...           test  \n",
       "4        \"Trust is not the same as faith. A friend is s...           test  \n",
       "9        When do you have enough ? When are you satisfi...           test  \n",
       "30       God woke you up, now chase the day #GodsPlan #...           test  \n",
       "33       In these tough times, who do YOU turn to as yo...           test  \n",
       "...                                                    ...            ...  \n",
       "1867525  \"For this is the message that ye heard from th...           test  \n",
       "1867529  \"There is a lad here, which hath five barley l...           test  \n",
       "1867530  When you buy the last 2 tickets remaining for ...           test  \n",
       "1867531  I swear all this hard work gone pay off one da...           test  \n",
       "1867532  @Parcel2Go no card left when I wasn't in so I ...           test  \n",
       "\n",
       "[411972 rows x 4 columns]"
      ]
     },
     "execution_count": 5,
     "metadata": {},
     "output_type": "execute_result"
    }
   ],
   "source": [
    "test_df"
   ]
  },
  {
   "cell_type": "markdown",
   "id": "114d8b0d-02b1-45c7-affb-9b3519fed6d9",
   "metadata": {},
   "source": [
    "# Check the word frequencies in the text."
   ]
  },
  {
   "cell_type": "code",
   "execution_count": 3,
   "id": "793cbd70-25b7-4459-a3c8-64444be4a66f",
   "metadata": {},
   "outputs": [
    {
     "data": {
      "image/png": "[encoded data removed]",
      "text/plain": [
       "<Figure size 1000x600 with 1 Axes>"
      ]
     },
     "metadata": {},
     "output_type": "display_data"
    }
   ],
   "source": [
    "import matplotlib.pyplot as plt\n",
    "from collections import Counter\n",
    "from nltk.tokenize import word_tokenize\n",
    "from nltk.corpus import stopwords\n",
    "import nltk\n",
    "\n",
    "\n",
    "\n",
    "def tokenize_and_count(text_list):\n",
    "    stop_words = set(stopwords.words('english'))\n",
    "    words = []\n",
    "    for text in text_list:\n",
    "        tokens = word_tokenize(text.lower())\n",
    "        words.extend([word for word in tokens if word.isalnum() and word not in stop_words])\n",
    "    return Counter(words)\n",
    "\n",
    "# Get word frequencies for train\n",
    "train_word_counts = tokenize_and_count(train_data_sample['text'])\n",
    "\n",
    "# Extract the top 30 words for each dataset\n",
    "top_train_words = train_word_counts.most_common(30)\n",
    "\n",
    "# Plot the word frequencies\n",
    "def plot_word_frequencies(word_counts, title):\n",
    "    words, counts = zip(*word_counts)\n",
    "    plt.figure(figsize=(10, 6))\n",
    "    plt.barh(words, counts, color='skyblue')\n",
    "    plt.gca().invert_yaxis()\n",
    "    plt.title(title, fontsize=14)\n",
    "    plt.xlabel('Frequency', fontsize=12)\n",
    "    plt.ylabel('Words', fontsize=12)\n",
    "    plt.show()\n",
    "\n",
    "# Plot for train dataset\n",
    "plot_word_frequencies(top_train_words, \"Top 30 Words in Train Dataset\")"
   ]
  },
  {
   "cell_type": "markdown",
   "id": "4af19624-7c63-4355-a525-8dbee4b563f1",
   "metadata": {},
   "source": [
    "# Check the emotion distribution of the data."
   ]
  },
  {
   "cell_type": "code",
   "execution_count": 6,
   "id": "12f397ea-3739-4408-954e-1f15dd233e59",
   "metadata": {},
   "outputs": [
    {
     "name": "stdout",
     "output_type": "stream",
     "text": [
      "emotion\n",
      "joy             103001\n",
      "anticipation     49420\n",
      "trust            41056\n",
      "sadness          38446\n",
      "disgust          27636\n",
      "fear             12711\n",
      "surprise          9529\n",
      "anger             8037\n",
      "Name: count, dtype: int64\n"
     ]
    },
    {
     "data": {
      "image/png": "[encoded data removed]",
      "text/plain": [
       "<Figure size 500x300 with 1 Axes>"
      ]
     },
     "metadata": {},
     "output_type": "display_data"
    }
   ],
   "source": [
    "train_df.groupby(['emotion']).count()['text']\n",
    "print(train_df['emotion'].value_counts())\n",
    "\n",
    "# the histogram of the data\n",
    "labels = train_df['emotion'].unique()\n",
    "post_total = len(train_df)\n",
    "df1 = train_df.groupby(['emotion']).count()['text']\n",
    "df1 = df1.apply(lambda x: round(x*100/post_total,3))\n",
    "\n",
    "#plot\n",
    "fig, ax = plt.subplots(figsize=(5,3))\n",
    "plt.bar(df1.index,df1.values)\n",
    "\n",
    "#arrange\n",
    "plt.ylabel('% of instances')\n",
    "plt.xlabel('Emotion')\n",
    "plt.title('Emotion distribution')\n",
    "plt.grid(True)\n",
    "plt.show()"
   ]
  },
  {
   "cell_type": "markdown",
   "id": "1909464d-8e5d-4b27-9402-f16c4ab7373d",
   "metadata": {},
   "source": [
    "# Since the distribution is dramatic, try to resample the emotions to the same amount."
   ]
  },
  {
   "cell_type": "code",
   "execution_count": 8,
   "id": "967a9342-6f96-4987-b2ec-e558fd6ea9f5",
   "metadata": {},
   "outputs": [
    {
     "name": "stdout",
     "output_type": "stream",
     "text": [
      "emotion\n",
      "anticipation    8037\n",
      "fear            8037\n",
      "surprise        8037\n",
      "joy             8037\n",
      "sadness         8037\n",
      "disgust         8037\n",
      "trust           8037\n",
      "anger           8037\n",
      "Name: count, dtype: int64\n"
     ]
    }
   ],
   "source": [
    "from sklearn.utils import resample\n",
    "\n",
    "minority_classes = train_df['emotion'].value_counts().min()\n",
    "balanced_df = pd.concat([\n",
    "    resample(train_df[train_df['emotion'] == emotion], \n",
    "             replace=False, \n",
    "             n_samples=minority_classes, \n",
    "             random_state=42)\n",
    "    for emotion in train_df['emotion'].unique()\n",
    "])\n",
    "\n",
    "train_df = balanced_df.sample(frac=1, random_state=42).reset_index(drop=True)\n",
    "\n",
    "print(train_df['emotion'].value_counts())"
   ]
  },
  {
   "cell_type": "markdown",
   "id": "d25812ff-62e8-4ee5-a243-dd13a4232ce8",
   "metadata": {},
   "source": [
    "# Preprocess the data."
   ]
  },
  {
   "cell_type": "code",
   "execution_count": 9,
   "id": "7ae085f7-4d2d-4845-82d1-d78e9d190e02",
   "metadata": {},
   "outputs": [
    {
     "data": {
      "application/vnd.jupyter.widget-view+json": {
       "model_id": "378144d73ec04f539f7abeb610ef0a78",
       "version_major": 2,
       "version_minor": 0
      },
      "text/plain": [
       "Pandas Apply:   0%|          | 0/64296 [00:00<?, ?it/s]"
      ]
     },
     "metadata": {},
     "output_type": "display_data"
    },
    {
     "data": {
      "application/vnd.jupyter.widget-view+json": {
       "model_id": "03577cfb726244ea979ae4f76438fa92",
       "version_major": 2,
       "version_minor": 0
      },
      "text/plain": [
       "Pandas Apply:   0%|          | 0/411972 [00:00<?, ?it/s]"
      ]
     },
     "metadata": {},
     "output_type": "display_data"
    }
   ],
   "source": [
    "from nltk.corpus import stopwords\n",
    "from nltk.tokenize import word_tokenize\n",
    "from nltk import wordnet\n",
    "import emoji\n",
    "import re\n",
    "\n",
    "stop_words = set(stopwords.words('english'))\n",
    "\n",
    "# emoji dictionary to change emojis to texts\n",
    "emoji_dict = {\n",
    "    '😂': '[joy]', '❤️': '[love]', '😍': '[adoration]', '😭': '[cry]',\n",
    "    '❤': '[care]', '😊': '[happy]', '🙏': '[pray]', '😘': '[kiss]',\n",
    "    '💕': '[love_each_other]', '🔥': '[fire]', '😩': '[weary]',\n",
    "    '🤔': '[think]', '💯': '[perfect]', '💙': '[loyalty]',\n",
    "    '🙄': '[annoyed]', '😁': '[happy]', '🙌': '[celebrate]',\n",
    "    '🙏🏾': '[pray]', '👍': '[approve]', '🙏🏽': '[pray]'\n",
    "}\n",
    "\n",
    "# Define a dictionary for common Twitter abbreviations/slangs\n",
    "slang_dict = {\n",
    "    \"lol\": \"laugh out_loud\",\n",
    "    \"u\": \"you\",\n",
    "    \"idk\": \"I do not know\",\n",
    "    \"omg\": \"oh my god\",\n",
    "    \"btw\": \"by the way\",\n",
    "    \"lmao\": \"laugh my_ass_off\",\n",
    "    \"lmfao\": \"laugh my_ass_off\",\n",
    "    \"fyi\": \"for your information\",\n",
    "    \"brb\": \"be right back\"\n",
    "    \n",
    "}\n",
    "\n",
    "def preprocess_text(text):\n",
    "    # 替換 emoji\n",
    "    for emj, keyword in emoji_dict.items():\n",
    "        text = text.replace(emj, keyword)\n",
    "    text = emoji.replace_emoji(text, replace='')  # Replace emojis\n",
    "    text = re.sub(r\"http\\S+|www\\S+|https\\S+\", '', text, flags=re.MULTILINE)  # Remove weblinks\n",
    "    text = re.sub(r'RT[\\s]+', '', text)  # Remove Retweet code\n",
    "    text = text.replace('<LH>', '') # Remove Select code\n",
    "    text = re.sub(r'\\@\\w+|\\#', '', text)  # Remove @user and hashtags\n",
    "    #text = re.sub(r\"[^a-zA-Z0-9\\s]\", '', text)  # Remove special characters\n",
    "    text = text.lower() # Uncapitalize every word.\n",
    "    text = re.sub(r'[^\\w\\s!?]', '', text) # Remove punctuation marks.\n",
    "    text = re.sub(r'not\\s+(\\w+)', r'not_\\1', text) # Replace \"not xxx\" to \"not_xxx\".\n",
    "    \n",
    "    wds = text.split() \n",
    "    tweet = \" \".join([slang_dict[wd.lower()] if wd.lower() in slang_dict else wd for wd in wds]) # Replace slangs with texts.\n",
    "    \n",
    "    text = fix(text) # Unabbreviate acronyms.\n",
    "\n",
    "    lemmatizer = WordNetLemmatizer()\n",
    "    text = \" \".join([lemmatizer.lemmatize(wd) for wd in text.split()]) # Convert to base verb.\n",
    "    \n",
    "    text = text.strip()\n",
    "    words = word_tokenize(text)\n",
    "    return ' '.join([word for word in words]) # Clean space.\n",
    "\n",
    "# Preprocess train and test dataset\n",
    "train_df['clean_text'] = train_df['text'].swifter.apply(preprocess_text)\n",
    "test_df['clean_text'] = test_df['text'].swifter.apply(preprocess_text)\n",
    "\n",
    "# Redistribute the train dataset\n",
    "train_df = train_df.sample(frac=1, random_state=42).reset_index(drop=True)"
   ]
  },
  {
   "cell_type": "markdown",
   "id": "339205a2-b7be-4ba3-9e73-0d74a878b694",
   "metadata": {},
   "source": [
    "# W2V to generate feature by cleaned text."
   ]
  },
  {
   "cell_type": "code",
   "execution_count": 10,
   "id": "91246fec-80b5-486f-a4eb-7659e7441f45",
   "metadata": {},
   "outputs": [
    {
     "data": {
      "application/vnd.jupyter.widget-view+json": {
       "model_id": "1d680bf540fc4697918527372bb095da",
       "version_major": 2,
       "version_minor": 0
      },
      "text/plain": [
       "Pandas Apply:   0%|          | 0/64296 [00:00<?, ?it/s]"
      ]
     },
     "metadata": {},
     "output_type": "display_data"
    },
    {
     "data": {
      "application/vnd.jupyter.widget-view+json": {
       "model_id": "6a7140caeba34ba185438519b4989246",
       "version_major": 2,
       "version_minor": 0
      },
      "text/plain": [
       "Pandas Apply:   0%|          | 0/411972 [00:00<?, ?it/s]"
      ]
     },
     "metadata": {},
     "output_type": "display_data"
    }
   ],
   "source": [
    "#w2v preprocessing\n",
    "def w2v_preprocess_text(text):\n",
    "    words = word_tokenize(text)\n",
    "    return ' '.join([word for word in words if word not in stop_words])\n",
    "    \n",
    "train_df['w2v_text'] = train_df['clean_text'].swifter.apply(w2v_preprocess_text)\n",
    "test_df['w2v_text'] = test_df['clean_text'].swifter.apply(w2v_preprocess_text)\n",
    "\n",
    "from gensim.models import Word2Vec\n",
    "import numpy as np\n",
    "\n",
    "train_sentences = train_df['w2v_text'].apply(lambda x: x.split()).tolist()\n",
    "test_sentences = test_df['w2v_text'].apply(lambda x: x.split()).tolist()\n",
    "\n",
    "w2v_model = Word2Vec(sentences=train_sentences, vector_size=100, window=5, min_count=2, workers=4)\n",
    "\n",
    "def sentence_to_vector(sentence, model):\n",
    "    vectors = [model.wv[word] for word in sentence if word in model.wv]\n",
    "    return np.mean(vectors, axis=0) if vectors else np.zeros(model.vector_size)\n",
    "\n",
    "train_text_vectors = np.array([sentence_to_vector(sent, w2v_model) for sent in train_sentences])\n",
    "test_text_vectors = np.array([sentence_to_vector(sent, w2v_model) for sent in test_sentences])"
   ]
  },
  {
   "cell_type": "markdown",
   "id": "f96cebea-4abb-41b1-991b-04ad5421f628",
   "metadata": {},
   "source": [
    "# TFIDF to generate feature by hashtags."
   ]
  },
  {
   "cell_type": "code",
   "execution_count": 11,
   "id": "aa5fb4b8-bd2a-45b4-a8a2-bbfc05fdccbb",
   "metadata": {},
   "outputs": [],
   "source": [
    "from sklearn.feature_extraction.text import TfidfVectorizer\n",
    "\n",
    "train_df['hashtags'] = train_df['hashtags'].apply(lambda x: ' '.join(x) if isinstance(x, list) else '')\n",
    "test_df['hashtags'] = test_df['hashtags'].apply(lambda x: ' '.join(x) if isinstance(x, list) else '')\n",
    "\n",
    "tfidf = TfidfVectorizer(max_features=500, stop_words='english')\n",
    "tfidf_train = tfidf.fit_transform(train_df['hashtags'])\n",
    "tfidf_test = tfidf.transform(test_df['hashtags'])"
   ]
  },
  {
   "cell_type": "markdown",
   "id": "f1016a14-12b4-4683-aaf3-5774cc505bbc",
   "metadata": {},
   "source": [
    "# Utilize Distil BERT to generate feature by clean text."
   ]
  },
  {
   "cell_type": "code",
   "execution_count": 12,
   "id": "c3598c33-d6df-469a-919f-b97ee8329d80",
   "metadata": {},
   "outputs": [
    {
     "data": {
      "application/vnd.jupyter.widget-view+json": {
       "model_id": "f1c1db5e6e8e4ae097c306bdb46b4490",
       "version_major": 2,
       "version_minor": 0
      },
      "text/plain": [
       "Pandas Apply:   0%|          | 0/64296 [00:00<?, ?it/s]"
      ]
     },
     "metadata": {},
     "output_type": "display_data"
    },
    {
     "data": {
      "application/vnd.jupyter.widget-view+json": {
       "model_id": "797d6db4a23149c18b9abc1da3005f74",
       "version_major": 2,
       "version_minor": 0
      },
      "text/plain": [
       "Pandas Apply:   0%|          | 0/411972 [00:00<?, ?it/s]"
      ]
     },
     "metadata": {},
     "output_type": "display_data"
    }
   ],
   "source": [
    "cache_path = \"C:\\\\Users\\\\t1070\\\\.cache\\\\huggingface\\\\transformers\"\n",
    "\n",
    "from transformers import AutoTokenizer, AutoModel\n",
    "\n",
    "MODEL_NAME = \"distilbert-base-uncased\"\n",
    "tokenizer = AutoTokenizer.from_pretrained(MODEL_NAME, cache_dir=cache_path)\n",
    "model = AutoModel.from_pretrained(MODEL_NAME, cache_dir=cache_path)\n",
    "\n",
    "model.to('cuda')\n",
    "\n",
    "def extract_bert_embeddings(text_series, batch_size=32):\n",
    "    def process_batch(batch_texts):\n",
    "        encodings = tokenizer(batch_texts, return_tensors=\"pt\", padding=True, truncation=True, max_length=128)\n",
    "        for key in encodings:\n",
    "            encodings[key] = encodings[key].to('cuda')\n",
    "        outputs = model(**encodings)\n",
    "        return outputs.last_hidden_state[:, 0, :].detach().cpu().numpy()\n",
    "\n",
    "    embeddings = (\n",
    "        text_series\n",
    "        .swifter.apply(lambda text: process_batch([text])[0]) \n",
    "        .to_numpy()\n",
    "    )\n",
    "    return np.stack(embeddings)\n",
    "\n",
    "bert_train = extract_bert_embeddings(train_df['clean_text'])\n",
    "bert_test = extract_bert_embeddings(test_df['clean_text'])"
   ]
  },
  {
   "cell_type": "markdown",
   "id": "a487975e-478c-4573-baa5-cb17f6fe151b",
   "metadata": {},
   "source": [
    "# Utilize SentimentIntensityAnalyzer to generate feature."
   ]
  },
  {
   "cell_type": "code",
   "execution_count": 13,
   "id": "a4c0c913-d4c9-47cf-882c-9cb40bf05795",
   "metadata": {},
   "outputs": [
    {
     "data": {
      "application/vnd.jupyter.widget-view+json": {
       "model_id": "58b0e47402a74ca09ac44419fa3164ec",
       "version_major": 2,
       "version_minor": 0
      },
      "text/plain": [
       "Pandas Apply:   0%|          | 0/64296 [00:00<?, ?it/s]"
      ]
     },
     "metadata": {},
     "output_type": "display_data"
    },
    {
     "data": {
      "application/vnd.jupyter.widget-view+json": {
       "model_id": "04f01f8ffdda436a8b86bb2a317a180c",
       "version_major": 2,
       "version_minor": 0
      },
      "text/plain": [
       "Pandas Apply:   0%|          | 0/411972 [00:00<?, ?it/s]"
      ]
     },
     "metadata": {},
     "output_type": "display_data"
    }
   ],
   "source": [
    "from nltk.sentiment.vader import SentimentIntensityAnalyzer\n",
    "\n",
    "sid = SentimentIntensityAnalyzer()\n",
    "def extract_sentiment_features(text_series):\n",
    "    sentiment_scores = text_series.swifter.apply(lambda text: sid.polarity_scores(text))\n",
    "    return pd.DataFrame(list(sentiment_scores))\n",
    "\n",
    "sentiment_train = extract_sentiment_features(train_df['text'])\n",
    "sentiment_test = extract_sentiment_features(test_df['text'])"
   ]
  },
  {
   "cell_type": "markdown",
   "id": "a0b246f9-7766-42f4-a366-5b633e5bd16f",
   "metadata": {},
   "source": [
    "# Combine all the features."
   ]
  },
  {
   "cell_type": "code",
   "execution_count": 14,
   "id": "33de9cb1-7903-459c-a2e7-7a3b53292721",
   "metadata": {},
   "outputs": [],
   "source": [
    "from scipy.sparse import hstack\n",
    "\n",
    "train_features = torch.cat([\n",
    "    torch.tensor(tfidf_train.toarray(), dtype=torch.float32).to('cuda'),\n",
    "    torch.tensor(train_text_vectors, dtype=torch.float32).to('cuda'),\n",
    "    torch.tensor(bert_train, dtype=torch.float32).to('cuda'),\n",
    "    torch.tensor(sentiment_train.values.astype(np.float32), dtype=torch.float32).to('cuda')\n",
    "], dim=1)\n",
    "\n",
    "test_features = torch.cat([\n",
    "    torch.tensor(tfidf_test.toarray(), dtype=torch.float32).to('cuda'),\n",
    "    torch.tensor(test_text_vectors, dtype=torch.float32).to('cuda'),\n",
    "    torch.tensor(bert_test, dtype=torch.float32).to('cuda'),\n",
    "    torch.tensor(sentiment_test.values.astype(np.float32), dtype=torch.float32).to('cuda')\n",
    "], dim=1)"
   ]
  },
  {
   "cell_type": "markdown",
   "id": "34ca0343-81ee-4e20-8534-6bac49f6f105",
   "metadata": {},
   "source": [
    "# Prepare the data for training."
   ]
  },
  {
   "cell_type": "code",
   "execution_count": 15,
   "id": "d697dcb4-ff90-4629-b79a-259743efd167",
   "metadata": {},
   "outputs": [],
   "source": [
    "# Label encoding the emotions\n",
    "label_encoder = LabelEncoder()\n",
    "y_train = label_encoder.fit_transform(train_df['emotion'])\n",
    "\n",
    "# Split the train datasets for training and validation\n",
    "X_train_split, X_val_split, y_train_split, y_val_split = train_test_split(\n",
    "    train_features,  \n",
    "    y_train, \n",
    "    test_size=0.2,\n",
    "    random_state=42,\n",
    "    stratify=y_train  \n",
    ")\n"
   ]
  },
  {
   "cell_type": "markdown",
   "id": "eda13d02-5a2e-455d-9a08-691046cea143",
   "metadata": {},
   "source": [
    "# Train by LSTM with attention"
   ]
  },
  {
   "cell_type": "code",
   "execution_count": 17,
   "id": "8f4e9295-e314-4a53-a2da-174d364f6acd",
   "metadata": {},
   "outputs": [
    {
     "name": "stderr",
     "output_type": "stream",
     "text": [
      "C:\\Users\\t1070\\AppData\\Local\\Temp\\ipykernel_39980\\4062042642.py:42: UserWarning: To copy construct from a tensor, it is recommended to use sourceTensor.clone().detach() or sourceTensor.clone().detach().requires_grad_(True), rather than torch.tensor(sourceTensor).\n",
      "  torch.tensor(X_train_split, dtype=torch.float32),\n"
     ]
    },
    {
     "name": "stdout",
     "output_type": "stream",
     "text": [
      "Epoch 1/7, Average Loss: 0.8738586334752072\n",
      "Epoch 2/7, Average Loss: 0.8162243988521363\n",
      "Epoch 3/7, Average Loss: 0.7888451982434392\n",
      "Epoch 4/7, Average Loss: 0.7686200263989658\n",
      "Epoch 5/7, Average Loss: 0.7526135037698048\n",
      "Epoch 6/7, Average Loss: 0.7380433976742936\n",
      "Epoch 7/7, Average Loss: 0.7228625562383821\n"
     ]
    }
   ],
   "source": [
    "import os\n",
    "\n",
    "# Set the directory for cache.\n",
    "torch_cache_dir = \"C:\\\\Users\\\\t1070\\\\.cache\\\\torch\\\\cache\"\n",
    "os.environ['TORCH_HOME'] = torch_cache_dir  \n",
    "\n",
    "torch.cuda.empty_cache()\n",
    "\n",
    "from torch import nn\n",
    "\n",
    "class LSTMWithAttention(nn.Module):\n",
    "    def __init__(self, input_dim, hidden_dim, output_dim):\n",
    "        super().__init__()\n",
    "        self.lstm = nn.LSTM(input_dim, hidden_dim, batch_first=True, bidirectional=True)\n",
    "        self.attention = nn.Linear(hidden_dim * 2, 1)\n",
    "        self.fc = nn.Linear(hidden_dim * 2, output_dim)\n",
    "    \n",
    "    def forward(self, x):\n",
    "        # Ensure x is 3D: [batch_size, sequence_length, features]\n",
    "        if x.dim() == 2:\n",
    "            x = x.unsqueeze(1)  # Add sequence dimension if missing\n",
    "        \n",
    "        lstm_out, _ = self.lstm(x)\n",
    "        \n",
    "        # Compute attention scores\n",
    "        attention_scores = self.attention(lstm_out).squeeze(-1)\n",
    "        attention_weights = torch.softmax(attention_scores, dim=1)\n",
    "        \n",
    "        # Weighted sum of LSTM outputs\n",
    "        attended_output = torch.sum(attention_weights.unsqueeze(-1) * lstm_out, dim=1)\n",
    "        \n",
    "        return self.fc(attended_output)\n",
    "\n",
    "# LSTM+Attention model\n",
    "# Construct DataLoader\n",
    "batch_size = 16\n",
    "accumulation_steps = 2\n",
    "num_epochs = 7\n",
    "\n",
    "# Create dataset and loader\n",
    "train_dataset = TensorDataset(\n",
    "    torch.tensor(X_train_split, dtype=torch.float32), \n",
    "    torch.tensor(y_train_split, dtype=torch.long)\n",
    ")\n",
    "train_loader = DataLoader(train_dataset, batch_size=batch_size, shuffle=True)\n",
    "\n",
    "# Initialize model, loss, and optimizer\n",
    "lstm_attention_model = LSTMWithAttention(\n",
    "    input_dim=X_train_split.shape[1], \n",
    "    hidden_dim=64,  # Reduced hidden dimension \n",
    "    output_dim=len(label_encoder.classes_)\n",
    ").to('cuda')\n",
    "\n",
    "criterion = nn.CrossEntropyLoss()\n",
    "optimizer = torch.optim.Adam(lstm_attention_model.parameters(), lr=0.001)\n",
    "\n",
    "# Training loop\n",
    "for epoch in range(num_epochs):\n",
    "    lstm_attention_model.train()\n",
    "    epoch_loss = 0.0\n",
    "    \n",
    "    for i, (batch_features, batch_labels) in enumerate(train_loader):\n",
    "        batch_features = batch_features.to('cuda')\n",
    "        batch_labels = batch_labels.to('cuda')\n",
    "        \n",
    "        # Forward pass\n",
    "        outputs = lstm_attention_model(batch_features)\n",
    "        \n",
    "        # Compute loss\n",
    "        loss = criterion(outputs, batch_labels) / accumulation_steps\n",
    "        \n",
    "        # Backward pass\n",
    "        loss.backward()\n",
    "        \n",
    "        # Update weights\n",
    "        if (i + 1) % accumulation_steps == 0:\n",
    "            optimizer.step()\n",
    "            optimizer.zero_grad()\n",
    "        \n",
    "        epoch_loss += loss.item()\n",
    "    \n",
    "    print(f\"Epoch {epoch+1}/{num_epochs}, Average Loss: {epoch_loss / len(train_loader)}\")\n",
    "\n",
    "torch.cuda.empty_cache()"
   ]
  },
  {
   "cell_type": "markdown",
   "id": "a05a9821-d483-46da-920d-cc7fd4f1e293",
   "metadata": {},
   "source": [
    "# Plot Classification Report and Confusion Matrix"
   ]
  },
  {
   "cell_type": "code",
   "execution_count": null,
   "id": "f69dc58a-d85c-466f-9a14-74d9d41d8661",
   "metadata": {},
   "outputs": [],
   "source": []
  },
  {
   "cell_type": "code",
   "execution_count": 18,
   "id": "f99ecef9-a1d6-483e-b1c0-7a23e795e417",
   "metadata": {},
   "outputs": [
    {
     "name": "stderr",
     "output_type": "stream",
     "text": [
      "C:\\Users\\t1070\\AppData\\Local\\Temp\\ipykernel_39980\\1471479750.py:5: UserWarning: To copy construct from a tensor, it is recommended to use sourceTensor.clone().detach() or sourceTensor.clone().detach().requires_grad_(True), rather than torch.tensor(sourceTensor).\n",
      "  torch.tensor(X_val_split, dtype=torch.float32),\n"
     ]
    },
    {
     "name": "stdout",
     "output_type": "stream",
     "text": [
      "LSTM Confusion Matrix:\n",
      "[[694  67 180 195  93 214  75  89]\n",
      " [ 50 869  46 119 147  92  66 218]\n",
      " [182  71 556 219  92 286 117  85]\n",
      " [ 82 123  97 860 125 124 100  97]\n",
      " [ 61 188  49 165 600  88  76 381]\n",
      " [179  82 204 256 100 559 131  96]\n",
      " [144  93 177 252 151 186 481 124]\n",
      " [ 53 244  58 127 239  91  69 726]]\n",
      "\n",
      "LSTM Classification Report:\n",
      "              precision    recall  f1-score   support\n",
      "\n",
      "           0       0.48      0.43      0.45      1607\n",
      "           1       0.50      0.54      0.52      1607\n",
      "           2       0.41      0.35      0.37      1608\n",
      "           3       0.39      0.53      0.45      1608\n",
      "           4       0.39      0.37      0.38      1608\n",
      "           5       0.34      0.35      0.34      1607\n",
      "           6       0.43      0.30      0.35      1608\n",
      "           7       0.40      0.45      0.42      1607\n",
      "\n",
      "    accuracy                           0.42     12860\n",
      "   macro avg       0.42      0.42      0.41     12860\n",
      "weighted avg       0.42      0.42      0.41     12860\n",
      "\n"
     ]
    }
   ],
   "source": [
    "from sklearn.metrics import classification_report, confusion_matrix\n",
    "\n",
    "# Validation loop\n",
    "val_dataset = TensorDataset(\n",
    "    torch.tensor(X_val_split, dtype=torch.float32), \n",
    "    torch.tensor(y_val_split, dtype=torch.long)\n",
    ")\n",
    "val_loader = DataLoader(val_dataset, batch_size=batch_size, shuffle=False)\n",
    "\n",
    "lstm_attention_model.eval()\n",
    "val_preds = []\n",
    "val_true = []\n",
    "with torch.no_grad():\n",
    "    for batch_features, batch_labels in val_loader:\n",
    "        batch_features = batch_features.to('cuda')\n",
    "        outputs = lstm_attention_model(batch_features)\n",
    "        batch_preds = torch.argmax(outputs, dim=1).cpu().numpy()\n",
    "        val_preds.extend(batch_preds)\n",
    "        val_true.extend(batch_labels.numpy())\n",
    "\n",
    "print(\"LSTM Confusion Matrix:\")\n",
    "print(confusion_matrix(val_true, val_preds))\n",
    "print(\"\\nLSTM Classification Report:\")\n",
    "print(classification_report(val_true, val_preds))"
   ]
  },
  {
   "cell_type": "markdown",
   "id": "84c2f312-20b3-4743-8695-eef58b633209",
   "metadata": {},
   "source": [
    "# Generate test dataset results."
   ]
  },
  {
   "cell_type": "code",
   "execution_count": 19,
   "id": "1ca2f349-852c-4831-8f81-ff4fc418a899",
   "metadata": {},
   "outputs": [
    {
     "name": "stderr",
     "output_type": "stream",
     "text": [
      "C:\\Users\\t1070\\AppData\\Local\\Temp\\ipykernel_39980\\235401172.py:1: UserWarning: To copy construct from a tensor, it is recommended to use sourceTensor.clone().detach() or sourceTensor.clone().detach().requires_grad_(True), rather than torch.tensor(sourceTensor).\n",
      "  test_features_tensor = torch.tensor(test_features, dtype=torch.float32).to('cuda')\n"
     ]
    }
   ],
   "source": [
    "test_features_tensor = torch.tensor(test_features, dtype=torch.float32).to('cuda')\n",
    "\n",
    "# Predict on test set\n",
    "lstm_attention_model.eval()\n",
    "with torch.no_grad():\n",
    "    torch.cuda.empty_cache()\n",
    "    y_test_pred = torch.argmax(lstm_attention_model(test_features_tensor), dim=1).cpu().numpy()\n",
    "\n",
    "# Inverse transform predictions\n",
    "test_df['emotion'] = label_encoder.inverse_transform(y_test_pred)\n",
    "\n",
    "# Output submission\n",
    "submission = test_df[['tweet_id', 'emotion']]\n",
    "submission.to_csv('lstm_submission_final.csv', index=False)\n"
   ]
  }
 ],
 "metadata": {
  "kernelspec": {
   "display_name": "Python 3 (ipykernel)",
   "language": "python",
   "name": "python3"
  },
  "language_info": {
   "codemirror_mode": {
    "name": "ipython",
    "version": 3
   },
   "file_extension": ".py",
   "mimetype": "text/x-python",
   "name": "python",
   "nbconvert_exporter": "python",
   "pygments_lexer": "ipython3",
   "version": "3.9.6"
  }
 },
 "nbformat": 4,
 "nbformat_minor": 5
}
