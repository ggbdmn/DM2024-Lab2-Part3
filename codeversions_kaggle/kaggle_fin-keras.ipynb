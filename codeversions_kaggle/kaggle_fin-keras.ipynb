{
 "cells": [
  {
   "cell_type": "code",
   "execution_count": 1,
   "id": "ce48bf9b-b1ed-49e9-984c-3202ae81c6c2",
   "metadata": {},
   "outputs": [],
   "source": [
    "import json\n",
    "import pandas as pd\n",
    "import numpy as np\n",
    "import torch\n",
    "import string\n",
    "import nltk\n",
    "import emoji\n",
    "import re\n",
    "from sklearn.feature_extraction.text import TfidfVectorizer\n",
    "from sklearn.model_selection import train_test_split\n",
    "from sklearn.preprocessing import LabelEncoder\n",
    "from sklearn.metrics import accuracy_score\n",
    "from torch.utils.data import DataLoader, TensorDataset\n",
    "from transformers import AutoTokenizer, AutoModel\n",
    "from nltk.stem import WordNetLemmatizer\n",
    "from contractions import fix\n",
    "from nltk.tokenize import word_tokenize\n",
    "from nltk import wordnet\n",
    "from nltk.sentiment.vader import SentimentIntensityAnalyzer\n",
    "import swifter"
   ]
  },
  {
   "cell_type": "code",
   "execution_count": 2,
   "id": "d2e28ae8-6bd0-4e6c-8c4b-826e2003b1e1",
   "metadata": {},
   "outputs": [],
   "source": [
    "data = []\n",
    "with open('tweet/tweets_DM.json', 'r') as f:\n",
    "    for line in f:\n",
    "        data.append(json.loads(line)) \n",
    "f.close()\n",
    "\n",
    "emotion = pd.read_csv('tweet/emotion.csv')\n",
    "data_identification = pd.read_csv('tweet/data_identification.csv')\n",
    "\n",
    "df = pd.DataFrame(data)\n",
    "_source = df['_source'].apply(lambda x: x['tweet'])\n",
    "df = pd.DataFrame({\n",
    "    'tweet_id': _source.apply(lambda x: x['tweet_id']),\n",
    "    'hashtags': _source.apply(lambda x: x['hashtags']),\n",
    "    'text': _source.apply(lambda x: x['text']),\n",
    "})\n",
    "df = df.merge(data_identification, on='tweet_id', how='left')\n",
    "\n",
    "train_data = df[df['identification'] == 'train']\n",
    "test_data = df[df['identification'] == 'test']\n",
    "\n",
    "train_data = train_data.merge(emotion, on='tweet_id', how='left')\n",
    "train_data.drop_duplicates(subset=['text'], keep=False, inplace=True)\n",
    "\n",
    "train_data_sample = train_data.sample(frac=0.5, random_state=42)\n",
    "train_data_sample.to_pickle(\"train_dsample.pkl\")\n",
    "train_df = pd.read_pickle(\"train_dsample.pkl\")\n",
    "\n",
    "test_data.to_pickle(\"test_d.pkl\")\n",
    "test_df = pd.read_pickle(\"test_d.pkl\")"
   ]
  },
  {
   "cell_type": "code",
   "execution_count": 3,
   "id": "41f32ee6-46b1-4975-a8db-e3ff29e1b2ed",
   "metadata": {},
   "outputs": [
    {
     "data": {
      "application/vnd.jupyter.widget-view+json": {
       "model_id": "23430232f01841aab184695a1ed3579f",
       "version_major": 2,
       "version_minor": 0
      },
      "text/plain": [
       "Pandas Apply:   0%|          | 0/724591 [00:00<?, ?it/s]"
      ]
     },
     "metadata": {},
     "output_type": "display_data"
    },
    {
     "data": {
      "application/vnd.jupyter.widget-view+json": {
       "model_id": "6b3ae919e29a4075a3dfc66822f247b4",
       "version_major": 2,
       "version_minor": 0
      },
      "text/plain": [
       "Pandas Apply:   0%|          | 0/411972 [00:00<?, ?it/s]"
      ]
     },
     "metadata": {},
     "output_type": "display_data"
    }
   ],
   "source": [
    "# from nltk.corpus import stopwords\n",
    "# from nltk.tokenize import word_tokenize\n",
    "# from nltk import wordnet\n",
    "\n",
    "\n",
    "# stop_words = set(stopwords.words('english'))\n",
    "\n",
    "# 表情符號替換詞典\n",
    "emoji_dict = {\n",
    "    '😂': '[joy]', '❤️': '[love]', '😍': '[adoration]', '😭': '[cry]',\n",
    "    '❤': '[care]', '😊': '[happy]', '🙏': '[pray]', '😘': '[kiss]',\n",
    "    '💕': '[love_each_other]', '🔥': '[fire]', '😩': '[weary]',\n",
    "    '🤔': '[think]', '💯': '[perfect]', '💙': '[loyalty]',\n",
    "    '🙄': '[annoyed]', '😁': '[happy]', '🙌': '[celebrate]',\n",
    "    '🙏🏾': '[pray]', '👍': '[approve]', '🙏🏽': '[pray]'\n",
    "}\n",
    "\n",
    "# Define a dictionary for common Twitter abbreviations/slangs\n",
    "slang_dict = {\n",
    "    \"lol\": \"laugh out_loud\",\n",
    "    \"u\": \"you\",\n",
    "    \"idk\": \"I do not know\",\n",
    "    \"omg\": \"oh my god\",\n",
    "    \"btw\": \"by the way\",\n",
    "    \"lmao\": \"laugh my_ass_off\",\n",
    "    \"lmfao\": \"laugh my_ass_off\",\n",
    "    \"fyi\": \"for your information\",\n",
    "    \"brb\": \"be right back\"\n",
    "    # Add more as needed\n",
    "}\n",
    "\n",
    "# 預處理函數\n",
    "def preprocess_text(text):\n",
    "    # 替換 emoji\n",
    "    for emj, keyword in emoji_dict.items():\n",
    "        text = text.replace(emj, keyword)\n",
    "    text = emoji.replace_emoji(text, replace='')  # 移除其他 emoji\n",
    "    text = re.sub(r\"http\\S+|www\\S+|https\\S+\", '', text, flags=re.MULTILINE)  # 移除網址\n",
    "    text = re.sub(r'RT[\\s]+', '', text)  # Remove RT\n",
    "    text = text.replace('<LH>', '')\n",
    "    text = re.sub(r'\\@\\w+|\\#', '', text)  # 移除 @user 和 hashtags\n",
    "    text = re.sub(r\"[^a-zA-Z0-9\\s]\", '', text)  # 移除特殊字元\n",
    "    text = text.lower()\n",
    "    text = re.sub(r'[^\\w\\s!?]', '', text)\n",
    "    text = re.sub(r'not\\s+(\\w+)', r'not_\\1', text)\n",
    "    \n",
    "    wds = text.split()\n",
    "    tweet = \" \".join([slang_dict[wd.lower()] if wd.lower() in slang_dict else wd for wd in wds])\n",
    "    \n",
    "    text = fix(text)\n",
    "    #text = str(TextBlob(text).correct())\n",
    "\n",
    "    lemmatizer = WordNetLemmatizer()\n",
    "    text = \" \".join([lemmatizer.lemmatize(wd) for wd in text.split()])\n",
    "    \n",
    "    text = text.strip()\n",
    "    \n",
    "    \n",
    "    words = word_tokenize(text)\n",
    "    return ' '.join([word for word in words])\n",
    "\n",
    "# 清理訓練與測試資料\n",
    "train_df['clean_text'] = train_df['text'].swifter.apply(preprocess_text)\n",
    "test_df['clean_text'] = test_df['text'].swifter.apply(preprocess_text)\n",
    "\n",
    "# 打亂訓練資料\n",
    "train_df = train_df.sample(frac=1, random_state=42).reset_index(drop=True)"
   ]
  },
  {
   "cell_type": "code",
   "execution_count": 4,
   "id": "30830f11-baa1-41a0-a1aa-baa11b285af0",
   "metadata": {},
   "outputs": [
    {
     "name": "stdout",
     "output_type": "stream",
     "text": [
      "[[1, 25, 12, 941, 13249, 125]]\n"
     ]
    }
   ],
   "source": [
    "from tensorflow.keras.preprocessing.text import Tokenizer\n",
    "\n",
    "tokenizer = Tokenizer(num_words=20000, oov_token='<UNK>')\n",
    "\n",
    "tokenizer.fit_on_texts(train_df['clean_text'])\n",
    "\n",
    "print(tokenizer.texts_to_sequences([train_df['clean_text'][10]]))"
   ]
  },
  {
   "cell_type": "code",
   "execution_count": 5,
   "id": "7668e63f-1e3f-40d9-ad17-a8bc4a8c1b03",
   "metadata": {},
   "outputs": [],
   "source": [
    "from tensorflow.keras.preprocessing.sequence import pad_sequences\n",
    "\n",
    "def get_sequences(tokenizer, tweets):\n",
    "    sequences = tokenizer.texts_to_sequences(tweets)\n",
    "    padded_sequences = pad_sequences(sequences, truncating='post', maxlen=50, padding='post')\n",
    "    return padded_sequences\n",
    "\n",
    "padded_train_sequences = get_sequences(tokenizer, train_df['clean_text'])"
   ]
  },
  {
   "cell_type": "code",
   "execution_count": 6,
   "id": "1176898c-7c7a-4c22-94c1-30d62d590815",
   "metadata": {},
   "outputs": [
    {
     "data": {
      "text/plain": [
       "array([[18022,   566,     7, ...,     0,     0,     0],\n",
       "       [   47,     4,    25, ...,     0,     0,     0],\n",
       "       [  229,  3459,     4, ...,     0,     0,     0],\n",
       "       ...,\n",
       "       [  133,   291,   288, ...,     0,     0,     0],\n",
       "       [   26,   291,    31, ...,     0,     0,     0],\n",
       "       [   83,    12,    63, ...,     0,     0,     0]])"
      ]
     },
     "execution_count": 6,
     "metadata": {},
     "output_type": "execute_result"
    }
   ],
   "source": [
    "padded_train_sequences"
   ]
  },
  {
   "cell_type": "code",
   "execution_count": 7,
   "id": "2ab50a25-9205-4a7b-8536-83d06d96d1f3",
   "metadata": {},
   "outputs": [
    {
     "name": "stdout",
     "output_type": "stream",
     "text": [
      "{'joy', 'surprise', 'fear', 'trust', 'disgust', 'anger', 'anticipation', 'sadness'}\n"
     ]
    }
   ],
   "source": [
    "classes = set(train_df['emotion'])\n",
    "print(classes)\n"
   ]
  },
  {
   "cell_type": "code",
   "execution_count": 8,
   "id": "19251499-4804-45a5-aa30-31fcda230816",
   "metadata": {},
   "outputs": [
    {
     "name": "stdout",
     "output_type": "stream",
     "text": [
      "{'joy': 0, 'surprise': 1, 'fear': 2, 'trust': 3, 'disgust': 4, 'anger': 5, 'anticipation': 6, 'sadness': 7}\n",
      "{0: 'joy', 1: 'surprise', 2: 'fear', 3: 'trust', 4: 'disgust', 5: 'anger', 6: 'anticipation', 7: 'sadness'}\n"
     ]
    }
   ],
   "source": [
    "classes_to_index = dict((c, i) for i, c in enumerate(classes))\n",
    "index_to_classes = dict((v, k) for k, v in classes_to_index.items())\n",
    "print(classes_to_index)\n",
    "print(index_to_classes)"
   ]
  },
  {
   "cell_type": "code",
   "execution_count": 9,
   "id": "2492a522-5e45-4057-ad80-039aff72a9f0",
   "metadata": {},
   "outputs": [
    {
     "name": "stdout",
     "output_type": "stream",
     "text": [
      "4\n"
     ]
    }
   ],
   "source": [
    "names_to_ids = lambda x: np.array([classes_to_index.get(emotion) for emotion in x])\n",
    "train_labels = names_to_ids(train_df['emotion'])\n",
    "print(train_labels[10])"
   ]
  },
  {
   "cell_type": "code",
   "execution_count": 11,
   "id": "3eebd6f0-72ab-4da4-a22c-2687b2fb797f",
   "metadata": {},
   "outputs": [
    {
     "data": {
      "text/html": [
       "<pre style=\"white-space:pre;overflow-x:auto;line-height:normal;font-family:Menlo,'DejaVu Sans Mono',consolas,'Courier New',monospace\"><span style=\"font-weight: bold\">Model: \"sequential_1\"</span>\n",
       "</pre>\n"
      ],
      "text/plain": [
       "\u001b[1mModel: \"sequential_1\"\u001b[0m\n"
      ]
     },
     "metadata": {},
     "output_type": "display_data"
    },
    {
     "data": {
      "text/html": [
       "<pre style=\"white-space:pre;overflow-x:auto;line-height:normal;font-family:Menlo,'DejaVu Sans Mono',consolas,'Courier New',monospace\">┏━━━━━━━━━━━━━━━━━━━━━━━━━━━━━━━━━━━━━━┳━━━━━━━━━━━━━━━━━━━━━━━━━━━━━┳━━━━━━━━━━━━━━━━━┓\n",
       "┃<span style=\"font-weight: bold\"> Layer (type)                         </span>┃<span style=\"font-weight: bold\"> Output Shape                </span>┃<span style=\"font-weight: bold\">         Param # </span>┃\n",
       "┡━━━━━━━━━━━━━━━━━━━━━━━━━━━━━━━━━━━━━━╇━━━━━━━━━━━━━━━━━━━━━━━━━━━━━╇━━━━━━━━━━━━━━━━━┩\n",
       "│ embedding_1 (<span style=\"color: #0087ff; text-decoration-color: #0087ff\">Embedding</span>)              │ ?                           │     <span style=\"color: #00af00; text-decoration-color: #00af00\">0</span> (unbuilt) │\n",
       "├──────────────────────────────────────┼─────────────────────────────┼─────────────────┤\n",
       "│ bidirectional_2 (<span style=\"color: #0087ff; text-decoration-color: #0087ff\">Bidirectional</span>)      │ ?                           │     <span style=\"color: #00af00; text-decoration-color: #00af00\">0</span> (unbuilt) │\n",
       "├──────────────────────────────────────┼─────────────────────────────┼─────────────────┤\n",
       "│ bidirectional_3 (<span style=\"color: #0087ff; text-decoration-color: #0087ff\">Bidirectional</span>)      │ ?                           │     <span style=\"color: #00af00; text-decoration-color: #00af00\">0</span> (unbuilt) │\n",
       "├──────────────────────────────────────┼─────────────────────────────┼─────────────────┤\n",
       "│ dense_1 (<span style=\"color: #0087ff; text-decoration-color: #0087ff\">Dense</span>)                      │ ?                           │     <span style=\"color: #00af00; text-decoration-color: #00af00\">0</span> (unbuilt) │\n",
       "└──────────────────────────────────────┴─────────────────────────────┴─────────────────┘\n",
       "</pre>\n"
      ],
      "text/plain": [
       "┏━━━━━━━━━━━━━━━━━━━━━━━━━━━━━━━━━━━━━━┳━━━━━━━━━━━━━━━━━━━━━━━━━━━━━┳━━━━━━━━━━━━━━━━━┓\n",
       "┃\u001b[1m \u001b[0m\u001b[1mLayer (type)                        \u001b[0m\u001b[1m \u001b[0m┃\u001b[1m \u001b[0m\u001b[1mOutput Shape               \u001b[0m\u001b[1m \u001b[0m┃\u001b[1m \u001b[0m\u001b[1m        Param #\u001b[0m\u001b[1m \u001b[0m┃\n",
       "┡━━━━━━━━━━━━━━━━━━━━━━━━━━━━━━━━━━━━━━╇━━━━━━━━━━━━━━━━━━━━━━━━━━━━━╇━━━━━━━━━━━━━━━━━┩\n",
       "│ embedding_1 (\u001b[38;5;33mEmbedding\u001b[0m)              │ ?                           │     \u001b[38;5;34m0\u001b[0m (unbuilt) │\n",
       "├──────────────────────────────────────┼─────────────────────────────┼─────────────────┤\n",
       "│ bidirectional_2 (\u001b[38;5;33mBidirectional\u001b[0m)      │ ?                           │     \u001b[38;5;34m0\u001b[0m (unbuilt) │\n",
       "├──────────────────────────────────────┼─────────────────────────────┼─────────────────┤\n",
       "│ bidirectional_3 (\u001b[38;5;33mBidirectional\u001b[0m)      │ ?                           │     \u001b[38;5;34m0\u001b[0m (unbuilt) │\n",
       "├──────────────────────────────────────┼─────────────────────────────┼─────────────────┤\n",
       "│ dense_1 (\u001b[38;5;33mDense\u001b[0m)                      │ ?                           │     \u001b[38;5;34m0\u001b[0m (unbuilt) │\n",
       "└──────────────────────────────────────┴─────────────────────────────┴─────────────────┘\n"
      ]
     },
     "metadata": {},
     "output_type": "display_data"
    },
    {
     "data": {
      "text/html": [
       "<pre style=\"white-space:pre;overflow-x:auto;line-height:normal;font-family:Menlo,'DejaVu Sans Mono',consolas,'Courier New',monospace\"><span style=\"font-weight: bold\"> Total params: </span><span style=\"color: #00af00; text-decoration-color: #00af00\">0</span> (0.00 B)\n",
       "</pre>\n"
      ],
      "text/plain": [
       "\u001b[1m Total params: \u001b[0m\u001b[38;5;34m0\u001b[0m (0.00 B)\n"
      ]
     },
     "metadata": {},
     "output_type": "display_data"
    },
    {
     "data": {
      "text/html": [
       "<pre style=\"white-space:pre;overflow-x:auto;line-height:normal;font-family:Menlo,'DejaVu Sans Mono',consolas,'Courier New',monospace\"><span style=\"font-weight: bold\"> Trainable params: </span><span style=\"color: #00af00; text-decoration-color: #00af00\">0</span> (0.00 B)\n",
       "</pre>\n"
      ],
      "text/plain": [
       "\u001b[1m Trainable params: \u001b[0m\u001b[38;5;34m0\u001b[0m (0.00 B)\n"
      ]
     },
     "metadata": {},
     "output_type": "display_data"
    },
    {
     "data": {
      "text/html": [
       "<pre style=\"white-space:pre;overflow-x:auto;line-height:normal;font-family:Menlo,'DejaVu Sans Mono',consolas,'Courier New',monospace\"><span style=\"font-weight: bold\"> Non-trainable params: </span><span style=\"color: #00af00; text-decoration-color: #00af00\">0</span> (0.00 B)\n",
       "</pre>\n"
      ],
      "text/plain": [
       "\u001b[1m Non-trainable params: \u001b[0m\u001b[38;5;34m0\u001b[0m (0.00 B)\n"
      ]
     },
     "metadata": {},
     "output_type": "display_data"
    }
   ],
   "source": [
    "import tensorflow as tf\n",
    "\n",
    "model = tf.keras.models.Sequential([\n",
    "    tf.keras.layers.Embedding(20000, 16, input_length=50),\n",
    "    tf.keras.layers.Bidirectional(tf.keras.layers.LSTM(20, return_sequences=True)),\n",
    "    tf.keras.layers.Bidirectional(tf.keras.layers.LSTM(20)),\n",
    "    tf.keras.layers.Dense(8, activation='softmax')\n",
    "])\n",
    "\n",
    "model.compile(\n",
    "    loss='sparse_categorical_crossentropy',\n",
    "    optimizer='adam',\n",
    "    metrics=['accuracy']\n",
    ")\n",
    "\n",
    "model.summary()"
   ]
  },
  {
   "cell_type": "code",
   "execution_count": 12,
   "id": "6d1d41d1-f8da-4f3c-bd66-1ca77fc6cffa",
   "metadata": {},
   "outputs": [],
   "source": [
    "X_train_split, X_val_split, y_train_split, y_val_split = train_test_split(\n",
    "    padded_train_sequences,  # 從 train_features 中劃分\n",
    "    train_labels, # 已編碼的目標值\n",
    "    test_size=0.2,\n",
    "    random_state=42,\n",
    "    stratify=train_labels  # 確保類別分佈一致\n",
    ")"
   ]
  },
  {
   "cell_type": "code",
   "execution_count": 16,
   "id": "4250fa34-a8ea-41cb-9405-2857ff56bca1",
   "metadata": {},
   "outputs": [
    {
     "name": "stdout",
     "output_type": "stream",
     "text": [
      "Epoch 1/15\n",
      "\u001b[1m18115/18115\u001b[0m \u001b[32m━━━━━━━━━━━━━━━━━━━━\u001b[0m\u001b[37m\u001b[0m \u001b[1m268s\u001b[0m 15ms/step - accuracy: 0.5644 - loss: 1.2068 - val_accuracy: 0.5383 - val_loss: 1.2803\n",
      "Epoch 2/15\n",
      "\u001b[1m18115/18115\u001b[0m \u001b[32m━━━━━━━━━━━━━━━━━━━━\u001b[0m\u001b[37m\u001b[0m \u001b[1m266s\u001b[0m 15ms/step - accuracy: 0.5765 - loss: 1.1703 - val_accuracy: 0.5393 - val_loss: 1.2871\n",
      "Epoch 3/15\n",
      "\u001b[1m18115/18115\u001b[0m \u001b[32m━━━━━━━━━━━━━━━━━━━━\u001b[0m\u001b[37m\u001b[0m \u001b[1m263s\u001b[0m 15ms/step - accuracy: 0.5885 - loss: 1.1398 - val_accuracy: 0.5369 - val_loss: 1.2897\n",
      "Epoch 4/15\n",
      "\u001b[1m18115/18115\u001b[0m \u001b[32m━━━━━━━━━━━━━━━━━━━━\u001b[0m\u001b[37m\u001b[0m \u001b[1m267s\u001b[0m 15ms/step - accuracy: 0.5982 - loss: 1.1143 - val_accuracy: 0.5363 - val_loss: 1.3049\n"
     ]
    }
   ],
   "source": [
    "h = model.fit(\n",
    "    X_train_split, y_train_split,\n",
    "    validation_data=(X_val_split, y_val_split),\n",
    "    epochs=15,\n",
    "    callbacks=[\n",
    "        tf.keras.callbacks.EarlyStopping(monitor='val_accuracy', patience=2)\n",
    "    ]\n",
    ")"
   ]
  },
  {
   "cell_type": "code",
   "execution_count": 17,
   "id": "f10618fd-9f5b-408e-9c4e-ef727953d988",
   "metadata": {},
   "outputs": [
    {
     "data": {
      "image/png": "[encoded data removed]",
      "text/plain": [
       "<Figure size 1600x600 with 2 Axes>"
      ]
     },
     "metadata": {},
     "output_type": "display_data"
    }
   ],
   "source": [
    "import matplotlib.pyplot as plt\n",
    "\n",
    "def show_history(h):\n",
    "    epochs_trained = len(h.history['loss'])\n",
    "    plt.figure(figsize=(16, 6))\n",
    "\n",
    "    plt.subplot(1, 2, 1)\n",
    "    plt.plot(range(0, epochs_trained), h.history.get('accuracy'), label='Training')\n",
    "    plt.plot(range(0, epochs_trained), h.history.get('val_accuracy'), label='Validation')\n",
    "    plt.ylim([0., 1.])\n",
    "    plt.xlabel('Epochs')\n",
    "    plt.ylabel('Accuracy')\n",
    "    plt.legend()\n",
    "\n",
    "    plt.subplot(1, 2, 2)\n",
    "    plt.plot(range(0, epochs_trained), h.history.get('loss'), label='Training')\n",
    "    plt.plot(range(0, epochs_trained), h.history.get('val_loss'), label='Validation')\n",
    "    plt.xlabel('Epochs')\n",
    "    plt.ylabel('Loss')\n",
    "    plt.legend()\n",
    "    plt.show()\n",
    "\n",
    "show_history(h)"
   ]
  },
  {
   "cell_type": "code",
   "execution_count": 18,
   "id": "b8789dff-2aae-445a-a696-6610a25197cb",
   "metadata": {},
   "outputs": [
    {
     "name": "stdout",
     "output_type": "stream",
     "text": [
      "\u001b[1m4529/4529\u001b[0m \u001b[32m━━━━━━━━━━━━━━━━━━━━\u001b[0m\u001b[37m\u001b[0m \u001b[1m21s\u001b[0m 5ms/step\n",
      "Classification Report:\n",
      "              precision    recall  f1-score   support\n",
      "\n",
      "         joy       0.56      0.78      0.65     51416\n",
      "    surprise       0.54      0.19      0.28      4745\n",
      "        fear       0.60      0.36      0.45      6365\n",
      "       trust       0.55      0.31      0.40     20505\n",
      "     disgust       0.42      0.37      0.39     13937\n",
      "       anger       0.39      0.26      0.31      3955\n",
      "anticipation       0.63      0.52      0.57     24747\n",
      "     sadness       0.44      0.47      0.45     19249\n",
      "\n",
      "    accuracy                           0.54    144919\n",
      "   macro avg       0.52      0.41      0.44    144919\n",
      "weighted avg       0.54      0.54      0.52    144919\n",
      "\n",
      "Confusion Matrix:\n",
      "[[40100   186   450  2739  1475   276  3344  2846]\n",
      " [ 1799   899   102   160   553    65   279   888]\n",
      " [ 2248    44  2267   165   383    90   445   723]\n",
      " [ 9845    86   170  6438   739   107  1861  1259]\n",
      " [ 3607   148   205   370  5118   451   625  3413]\n",
      " [ 1065    21    51    89   635  1031   195   868]\n",
      " [ 7876   107   246  1260   796   181 12910  1371]\n",
      " [ 5498   180   296   505  2405   421   987  8957]]\n"
     ]
    }
   ],
   "source": [
    "from sklearn.metrics import classification_report, confusion_matrix\n",
    "\n",
    "y_pred_val_encoded = model.predict(X_val_split)\n",
    "y_pred_val_labels = np.argmax(y_pred_val_encoded, axis=1)\n",
    "\n",
    "# 計算分類報告\n",
    "print(\"Classification Report:\")\n",
    "print(classification_report(y_val_split, y_pred_val_labels, target_names=index_to_classes.values()))\n",
    "\n",
    "# 計算混淆矩陣\n",
    "print(\"Confusion Matrix:\")\n",
    "print(confusion_matrix(y_val_split, y_pred_val_labels))\n"
   ]
  },
  {
   "cell_type": "code",
   "execution_count": 19,
   "id": "bd65c218-1a6b-42aa-be48-4406a11f5c3b",
   "metadata": {},
   "outputs": [
    {
     "name": "stdout",
     "output_type": "stream",
     "text": [
      "\u001b[1m12875/12875\u001b[0m \u001b[32m━━━━━━━━━━━━━━━━━━━━\u001b[0m\u001b[37m\u001b[0m \u001b[1m58s\u001b[0m 4ms/step\n",
      "Submission file saved as 'submission_tf.csv'.\n"
     ]
    }
   ],
   "source": [
    "# 預測測試集\n",
    "padded_test_sequences = get_sequences(tokenizer, test_df['clean_text'])\n",
    "y_test_pred_encoded = model.predict(padded_test_sequences)\n",
    "y_test_pred_labels = np.argmax(y_test_pred_encoded, axis=1)\n",
    "\n",
    "# 添加預測結果到測試集\n",
    "test_df['predicted_emotion'] = [index_to_classes[label] for label in y_test_pred_labels]\n",
    "\n",
    "# 保存為 CSV\n",
    "test_df[['tweet_id', 'predicted_emotion']].to_csv(\"submission_tf.csv\", index=False)\n",
    "\n",
    "print(\"Submission file saved as 'submission_tf.csv'.\")"
   ]
  },
  {
   "cell_type": "code",
   "execution_count": null,
   "id": "d5689b20-d609-4a97-997e-61dc2f7add33",
   "metadata": {},
   "outputs": [],
   "source": []
  },
  {
   "cell_type": "code",
   "execution_count": null,
   "id": "771c24e5-49e6-44cd-ad5b-5185bb9589a1",
   "metadata": {},
   "outputs": [],
   "source": []
  },
  {
   "cell_type": "code",
   "execution_count": null,
   "id": "0caa40ba-10f2-400e-954e-a21814b7f5e3",
   "metadata": {},
   "outputs": [],
   "source": []
  },
  {
   "cell_type": "code",
   "execution_count": null,
   "id": "f3aec525-ec75-471e-853c-7d90c352766d",
   "metadata": {},
   "outputs": [],
   "source": []
  },
  {
   "cell_type": "code",
   "execution_count": null,
   "id": "b0a297d3-027a-40e5-bac0-b790e125589c",
   "metadata": {},
   "outputs": [],
   "source": []
  },
  {
   "cell_type": "code",
   "execution_count": 13,
   "id": "8f2e6519-7aa5-4878-8152-ab205a18700d",
   "metadata": {},
   "outputs": [],
   "source": [
    "# 模型定義\n",
    "import xgboost as xgb\n",
    "from torch import nn\n",
    "\n",
    "xgb_model = xgb.XGBClassifier(\n",
    "    objective='multi:softmax', \n",
    "    num_class=len(label_encoder.classes_), \n",
    "    n_estimators=500,\n",
    "    learning_rate=0.01,\n",
    "    max_depth=5,\n",
    "    random_state=42,\n",
    "    tree_method='auto'\n",
    ")\n",
    "# xgb_model = xgb.XGBClassifier(objective='multi:softmax', num_class=len(label_encoder.classes_))\n",
    "\n",
    "# 模型定義：LSTM + Attention\n",
    "# class LSTMWithAttention(nn.Module):\n",
    "#     def __init__(self, input_dim, hidden_dim, output_dim):\n",
    "#         super(LSTMWithAttention, self).__init__()\n",
    "#         self.lstm = nn.LSTM(input_dim, hidden_dim, batch_first=True, bidirectional=True)\n",
    "#         self.attention = nn.Linear(hidden_dim * 2, 1)  # Linear layer for attention scores\n",
    "#         self.fc = nn.Linear(hidden_dim * 2, output_dim)  # Final output layer\n",
    "\n",
    "#     def forward(self, x):\n",
    "#         lstm_out, _ = self.lstm(x)  # lstm_out shape: (batch_size, seq_len, hidden_dim*2)\n",
    "        \n",
    "#         # Compute attention scores (shape: [batch_size, seq_len, 1])\n",
    "#         attention_scores = torch.softmax(self.attention(lstm_out), dim=1)\n",
    "        \n",
    "#         # Apply attention weights to LSTM output\n",
    "#         attended_output = torch.sum(attention_scores * lstm_out, dim=1)  # Summing over the sequence length\n",
    "\n",
    "#         # Pass through the final fully connected layer\n",
    "#         output = self.fc(attended_output)\n",
    "#         return output\n",
    "class LSTMWithAttention(nn.Module):\n",
    "    def __init__(self, input_dim, hidden_dim, output_dim):\n",
    "        super().__init__()\n",
    "        self.lstm = nn.LSTM(input_dim, hidden_dim, batch_first=True, bidirectional=True)\n",
    "        self.attention = nn.Linear(hidden_dim * 2, 1)\n",
    "        self.fc = nn.Linear(hidden_dim * 2, output_dim)\n",
    "    \n",
    "    def forward(self, x):\n",
    "        # Ensure x is 3D: [batch_size, sequence_length, features]\n",
    "        if x.dim() == 2:\n",
    "            x = x.unsqueeze(1)  # Add sequence dimension if missing\n",
    "        \n",
    "        lstm_out, _ = self.lstm(x)\n",
    "        \n",
    "        # Compute attention scores\n",
    "        attention_scores = self.attention(lstm_out).squeeze(-1)\n",
    "        attention_weights = torch.softmax(attention_scores, dim=1)\n",
    "        \n",
    "        # Weighted sum of LSTM outputs\n",
    "        attended_output = torch.sum(attention_weights.unsqueeze(-1) * lstm_out, dim=1)\n",
    "        \n",
    "        return self.fc(attended_output)\n",
    "\n"
   ]
  },
  {
   "cell_type": "code",
   "execution_count": 11,
   "id": "bc8187ae-25f9-449e-b8b0-62bcb56fec6a",
   "metadata": {},
   "outputs": [],
   "source": [
    "# 將特徵與標籤進行分割\n",
    "X_train_split, X_val_split, y_train_split, y_val_split = train_test_split(\n",
    "    train_features,  # 從 train_features 中劃分\n",
    "    y_train, # 已編碼的目標值\n",
    "    test_size=0.2,\n",
    "    random_state=42,\n",
    "    stratify=y_train  # 確保類別分佈一致\n",
    ")"
   ]
  },
  {
   "cell_type": "code",
   "execution_count": 25,
   "id": "a952d502-60fa-417c-8ba4-597245d8f2da",
   "metadata": {},
   "outputs": [
    {
     "name": "stdout",
     "output_type": "stream",
     "text": [
      "torch.Size([579672, 1372]) (579672,)\n",
      "torch.Size([144919, 1372]) (144919,)\n"
     ]
    }
   ],
   "source": [
    "print(X_train_split.shape, y_train_split.shape)\n",
    "print(X_val_split.shape, y_val_split.shape)"
   ]
  },
  {
   "cell_type": "code",
   "execution_count": 32,
   "id": "46c25272-8bb1-45da-ade4-0f9aaa2358d4",
   "metadata": {},
   "outputs": [
    {
     "data": {
      "text/plain": [
       "array([4, 1, 7, ..., 7, 3, 7])"
      ]
     },
     "execution_count": 32,
     "metadata": {},
     "output_type": "execute_result"
    }
   ],
   "source": [
    "y_train_split_encoded = label_encoder.fit_transform(y_train_split)\n",
    "y_train_split"
   ]
  },
  {
   "cell_type": "code",
   "execution_count": 27,
   "id": "f7eec608-8250-4260-b692-b5380b888e6d",
   "metadata": {},
   "outputs": [
    {
     "name": "stdout",
     "output_type": "stream",
     "text": [
      "False\n",
      "False\n",
      "False\n",
      "False\n"
     ]
    }
   ],
   "source": [
    "train_features_cpu = train_features.cpu().numpy()  # Move to CPU and convert to NumPy\n",
    "y_train_cpu = y_train\n",
    "\n",
    "# Check for NaN or infinity values in the features and labels\n",
    "print(np.any(np.isnan(train_features_cpu)))  # Check for NaNs in the features\n",
    "print(np.any(np.isnan(y_train_cpu)))         # Check for NaNs in the labels\n",
    "print(np.any(np.isinf(train_features_cpu)))  # Check for infinities in the features\n",
    "print(np.any(np.isinf(y_train_cpu)))         # Check for infinities in the labels"
   ]
  },
  {
   "cell_type": "code",
   "execution_count": 46,
   "id": "07db3154-97cb-49af-b834-bf669348f01f",
   "metadata": {},
   "outputs": [
    {
     "ename": "TypeError",
     "evalue": "fit() missing 1 required positional argument: 'y'",
     "output_type": "error",
     "traceback": [
      "\u001b[1;31m---------------------------------------------------------------------------\u001b[0m",
      "\u001b[1;31mTypeError\u001b[0m                                 Traceback (most recent call last)",
      "Cell \u001b[1;32mIn[46], line 5\u001b[0m\n\u001b[0;32m      3\u001b[0m xgb_model \u001b[38;5;241m=\u001b[39m xgb\u001b[38;5;241m.\u001b[39mXGBClassifier(objective\u001b[38;5;241m=\u001b[39m\u001b[38;5;124m'\u001b[39m\u001b[38;5;124mmulti:softmax\u001b[39m\u001b[38;5;124m'\u001b[39m, num_class\u001b[38;5;241m=\u001b[39m\u001b[38;5;28mlen\u001b[39m(label_encoder\u001b[38;5;241m.\u001b[39mclasses_))\n\u001b[0;32m      4\u001b[0m dtrain \u001b[38;5;241m=\u001b[39m xgb\u001b[38;5;241m.\u001b[39mDMatrix(train_features, label\u001b[38;5;241m=\u001b[39my_train)\n\u001b[1;32m----> 5\u001b[0m \u001b[43mxgb_model\u001b[49m\u001b[38;5;241;43m.\u001b[39;49m\u001b[43mfit\u001b[49m\u001b[43m(\u001b[49m\u001b[43mdtrain\u001b[49m\u001b[43m)\u001b[49m\n\u001b[0;32m      6\u001b[0m \u001b[38;5;66;03m# xgb_model.fit(\u001b[39;00m\n\u001b[0;32m      7\u001b[0m \u001b[38;5;66;03m#     X_train_split, y_train_split,\u001b[39;00m\n\u001b[0;32m      8\u001b[0m \u001b[38;5;66;03m#     eval_set=[(X_val_split, y_val_split)],  # 驗證集評估\u001b[39;00m\n\u001b[1;32m   (...)\u001b[0m\n\u001b[0;32m     11\u001b[0m \u001b[38;5;66;03m#xgb_model.fit(X_train_split, y_train_split)\u001b[39;00m\n\u001b[0;32m     12\u001b[0m \u001b[38;5;66;03m#y_pred_val_encoded = xgb_model.predict(X_val_split)\u001b[39;00m\n\u001b[0;32m     14\u001b[0m \u001b[38;5;28;01mfrom\u001b[39;00m \u001b[38;5;21;01msklearn\u001b[39;00m\u001b[38;5;21;01m.\u001b[39;00m\u001b[38;5;21;01mmetrics\u001b[39;00m \u001b[38;5;28;01mimport\u001b[39;00m classification_report, confusion_matrix\n",
      "File \u001b[1;32mc:\\users\\t1070\\appdata\\local\\programs\\python\\python39\\lib\\site-packages\\xgboost\\core.py:726\u001b[0m, in \u001b[0;36mrequire_keyword_args.<locals>.throw_if.<locals>.inner_f\u001b[1;34m(*args, **kwargs)\u001b[0m\n\u001b[0;32m    724\u001b[0m \u001b[38;5;28;01mfor\u001b[39;00m k, arg \u001b[38;5;129;01min\u001b[39;00m \u001b[38;5;28mzip\u001b[39m(sig\u001b[38;5;241m.\u001b[39mparameters, args):\n\u001b[0;32m    725\u001b[0m     kwargs[k] \u001b[38;5;241m=\u001b[39m arg\n\u001b[1;32m--> 726\u001b[0m \u001b[38;5;28;01mreturn\u001b[39;00m func(\u001b[38;5;241m*\u001b[39m\u001b[38;5;241m*\u001b[39mkwargs)\n",
      "\u001b[1;31mTypeError\u001b[0m: fit() missing 1 required positional argument: 'y'"
     ]
    }
   ],
   "source": [
    "# 模型訓練與評估\n",
    "# 1. XGBoost 模型\n",
    "xgb_model = xgb.XGBClassifier(objective='multi:softmax', num_class=len(label_encoder.classes_))\n",
    "dtrain = xgb.DMatrix(train_features, label=y_train)\n",
    "# xgb_model.fit(\n",
    "#     X_train_split, y_train_split,\n",
    "#     eval_set=[(X_val_split, y_val_split)],  # 驗證集評估\n",
    "#     verbose=True\n",
    "# )\n",
    "#xgb_model.fit(X_train_split, y_train_split)\n",
    "#y_pred_val_encoded = xgb_model.predict(X_val_split)\n",
    "\n",
    "from sklearn.metrics import classification_report, confusion_matrix\n",
    "\n",
    "# 將數值標籤轉回文字標籤\n",
    "y_pred_val = label_encoder.inverse_transform(y_pred_val_encoded)\n",
    "y_val_split_text = label_encoder.inverse_transform(y_val_split)\n",
    "\n",
    "# 評估模型\n",
    "print(confusion_matrix(y_val_split_text, y_pred_val))\n",
    "print(classification_report(y_val_split_text, y_pred_val))"
   ]
  },
  {
   "cell_type": "code",
   "execution_count": null,
   "id": "57da1b26-e4fc-493e-baae-ea7b47c40103",
   "metadata": {},
   "outputs": [],
   "source": []
  },
  {
   "cell_type": "code",
   "execution_count": 20,
   "id": "bfba7edf-98d0-4645-a783-f283e4a6f562",
   "metadata": {},
   "outputs": [
    {
     "name": "stderr",
     "output_type": "stream",
     "text": [
      "C:\\Users\\t1070\\AppData\\Local\\Temp\\ipykernel_19048\\3022464967.py:9: UserWarning: To copy construct from a tensor, it is recommended to use sourceTensor.clone().detach() or sourceTensor.clone().detach().requires_grad_(True), rather than torch.tensor(sourceTensor).\n",
      "  torch.tensor(X_train_split, dtype=torch.float32),\n"
     ]
    },
    {
     "name": "stdout",
     "output_type": "stream",
     "text": [
      "Epoch 1/5, Average Loss: 0.7421766256730004\n",
      "Epoch 2/5, Average Loss: 0.7017438596547917\n",
      "Epoch 3/5, Average Loss: 0.6837248608342462\n",
      "Epoch 4/5, Average Loss: 0.6710774905850075\n",
      "Epoch 5/5, Average Loss: 0.6609893236499513\n"
     ]
    }
   ],
   "source": [
    "# 2. LSTM+Attention 模型\n",
    "# 構建 DataLoader\n",
    "batch_size = 16\n",
    "accumulation_steps = 2\n",
    "num_epochs = 5\n",
    "\n",
    "# Create dataset and loader\n",
    "train_dataset = TensorDataset(\n",
    "    torch.tensor(X_train_split, dtype=torch.float32), \n",
    "    torch.tensor(y_train_split, dtype=torch.long)\n",
    ")\n",
    "train_loader = DataLoader(train_dataset, batch_size=batch_size, shuffle=True)\n",
    "\n",
    "# Initialize model, loss, and optimizer\n",
    "lstm_attention_model = LSTMWithAttention(\n",
    "    input_dim=X_train_split.shape[1], \n",
    "    hidden_dim=64,  # Reduced hidden dimension \n",
    "    output_dim=len(label_encoder.classes_)\n",
    ").to('cuda')\n",
    "\n",
    "criterion = nn.CrossEntropyLoss()\n",
    "optimizer = torch.optim.Adam(lstm_attention_model.parameters(), lr=0.001)\n",
    "\n",
    "# Training loop\n",
    "for epoch in range(num_epochs):\n",
    "    lstm_attention_model.train()\n",
    "    epoch_loss = 0.0\n",
    "    \n",
    "    for i, (batch_features, batch_labels) in enumerate(train_loader):\n",
    "        batch_features = batch_features.to('cuda')\n",
    "        batch_labels = batch_labels.to('cuda')\n",
    "        \n",
    "        # Forward pass\n",
    "        outputs = lstm_attention_model(batch_features)\n",
    "        \n",
    "        # Compute loss\n",
    "        loss = criterion(outputs, batch_labels) / accumulation_steps\n",
    "        \n",
    "        # Backward pass\n",
    "        loss.backward()\n",
    "        \n",
    "        # Update weights\n",
    "        if (i + 1) % accumulation_steps == 0:\n",
    "            optimizer.step()\n",
    "            optimizer.zero_grad()\n",
    "        \n",
    "        epoch_loss += loss.item()\n",
    "    \n",
    "    print(f\"Epoch {epoch+1}/{num_epochs}, Average Loss: {epoch_loss / len(train_loader)}\")\n"
   ]
  },
  {
   "cell_type": "code",
   "execution_count": 22,
   "id": "f9368ffc-ad03-4968-8c49-a8dd78d3ac32",
   "metadata": {},
   "outputs": [
    {
     "name": "stderr",
     "output_type": "stream",
     "text": [
      "C:\\Users\\t1070\\AppData\\Local\\Temp\\ipykernel_19048\\3508474324.py:17: UserWarning: To copy construct from a tensor, it is recommended to use sourceTensor.clone().detach() or sourceTensor.clone().detach().requires_grad_(True), rather than torch.tensor(sourceTensor).\n",
      "  torch.tensor(X_val_split, dtype=torch.float32),\n"
     ]
    },
    {
     "name": "stdout",
     "output_type": "stream",
     "text": [
      "LSTM Confusion Matrix:\n",
      "[[  92   61  100   10  251  265    2   23]\n",
      " [   3 2285   94   31 1837  369    7  285]\n",
      " [  28  146  703   31  863  908    7   85]\n",
      " [   1   94   51  273  585  221    3   42]\n",
      " [   5  659  170   55 8010  769   12  618]\n",
      " [  23  178  351   49 1299 1858    3   94]\n",
      " [   4   66   70   15  419  245  102   32]\n",
      " [   5  397  103   24 2214  334    3 1042]]\n",
      "\n",
      "LSTM Classification Report:\n",
      "              precision    recall  f1-score   support\n",
      "\n",
      "           0       0.57      0.11      0.19       804\n",
      "           1       0.59      0.47      0.52      4911\n",
      "           2       0.43      0.25      0.32      2771\n",
      "           3       0.56      0.21      0.31      1270\n",
      "           4       0.52      0.78      0.62     10298\n",
      "           5       0.37      0.48      0.42      3855\n",
      "           6       0.73      0.11      0.19       953\n",
      "           7       0.47      0.25      0.33      4122\n",
      "\n",
      "    accuracy                           0.50     28984\n",
      "   macro avg       0.53      0.33      0.36     28984\n",
      "weighted avg       0.51      0.50      0.47     28984\n",
      "\n"
     ]
    }
   ],
   "source": [
    "from sklearn.metrics import classification_report, confusion_matrix\n",
    "# Move test features to CUDA and ensure correct tensor type\n",
    "# val_features_tensor = torch.tensor(X_val_split, dtype=torch.float32).to('cuda')\n",
    "\n",
    "# # Evaluate LSTM model\n",
    "# lstm_attention_model.eval()\n",
    "# with torch.no_grad():\n",
    "#     lstm_preds = torch.argmax(lstm_attention_model(val_features_tensor), dim=1).cpu().numpy()\n",
    "\n",
    "# print(\"LSTM Confusion Matrix:\")\n",
    "# print(confusion_matrix(y_val_split, lstm_preds))\n",
    "# print(\"\\nLSTM Classification Report:\")\n",
    "# print(classification_report(y_val_split, lstm_preds))\n",
    "\n",
    "# Validation loop\n",
    "val_dataset = TensorDataset(\n",
    "    torch.tensor(X_val_split, dtype=torch.float32), \n",
    "    torch.tensor(y_val_split, dtype=torch.long)\n",
    ")\n",
    "val_loader = DataLoader(val_dataset, batch_size=batch_size, shuffle=False)\n",
    "\n",
    "lstm_attention_model.eval()\n",
    "val_preds = []\n",
    "val_true = []\n",
    "with torch.no_grad():\n",
    "    for batch_features, batch_labels in val_loader:\n",
    "        batch_features = batch_features.to('cuda')\n",
    "        outputs = lstm_attention_model(batch_features)\n",
    "        batch_preds = torch.argmax(outputs, dim=1).cpu().numpy()\n",
    "        val_preds.extend(batch_preds)\n",
    "        val_true.extend(batch_labels.numpy())\n",
    "\n",
    "print(\"LSTM Confusion Matrix:\")\n",
    "print(confusion_matrix(val_true, val_preds))\n",
    "print(\"\\nLSTM Classification Report:\")\n",
    "print(classification_report(val_true, val_preds))"
   ]
  },
  {
   "cell_type": "code",
   "execution_count": null,
   "id": "f981dd80-ee3a-4fab-8b65-f059f39d14e0",
   "metadata": {},
   "outputs": [],
   "source": [
    "# 3. Ensemble Voting\n",
    "voting_clf = VotingClassifier(estimators=[\n",
    "    ('xgb', xgb_model),\n",
    "    ('lstm', lstm_attention_model)  # 注意：需調整框架以支持 VotingClassifier\n",
    "], voting='hard')\n",
    "\n",
    "voting_preds = [np.argmax(np.bincount([x, y])) for x, y in zip(xgb_preds, lstm_preds)]\n",
    "\n",
    "print(\"Voting Classifier Confusion Matrix:\")\n",
    "print(confusion_matrix(y_test, voting_preds))\n",
    "print(\"\\nVoting Classifier Classification Report:\")\n",
    "print(classification_report(y_test, voting_preds))"
   ]
  },
  {
   "cell_type": "code",
   "execution_count": null,
   "id": "be57d944-bac7-4b45-a231-05c446c22839",
   "metadata": {},
   "outputs": [],
   "source": [
    "test_data['emotion'] = label_encoder.inverse_transform(voting_preds)\n",
    "submission = test_data[['tweet_id', 'emotion']]\n",
    "submission.to_csv('submission.csv', index=False)\n",
    "print(\"Submission file created: 'submission.csv'\")"
   ]
  },
  {
   "cell_type": "code",
   "execution_count": 23,
   "id": "15c5f72b-f4af-4b02-8ac1-010059f19f1c",
   "metadata": {},
   "outputs": [
    {
     "name": "stderr",
     "output_type": "stream",
     "text": [
      "C:\\Users\\t1070\\AppData\\Local\\Temp\\ipykernel_19048\\3397346809.py:1: UserWarning: To copy construct from a tensor, it is recommended to use sourceTensor.clone().detach() or sourceTensor.clone().detach().requires_grad_(True), rather than torch.tensor(sourceTensor).\n",
      "  test_features_tensor = torch.tensor(test_features, dtype=torch.float32).to('cuda')\n"
     ]
    }
   ],
   "source": [
    "test_features_tensor = torch.tensor(test_features, dtype=torch.float32).to('cuda')\n",
    "\n",
    "# Predict on test set\n",
    "lstm_attention_model.eval()\n",
    "with torch.no_grad():\n",
    "    y_test_pred = torch.argmax(lstm_attention_model(test_features_tensor), dim=1).cpu().numpy()\n",
    "\n",
    "# Inverse transform predictions\n",
    "test_df['emotion'] = label_encoder.inverse_transform(y_test_pred)\n",
    "\n",
    "# Output submission\n",
    "submission = test_df[['tweet_id', 'emotion']]\n",
    "submission.to_csv('lstm_submission.csv', index=False)"
   ]
  },
  {
   "cell_type": "code",
   "execution_count": null,
   "id": "d977031e-10a3-4f61-a710-ec6d7114d21f",
   "metadata": {},
   "outputs": [],
   "source": []
  },
  {
   "cell_type": "code",
   "execution_count": null,
   "id": "9781f4d0-0f49-42ce-947a-22359e258a36",
   "metadata": {},
   "outputs": [],
   "source": [
    "y_train = label_encoder.fit_transform(train_data['emotion'])\n",
    "y_test = label_encoder.transform(test_data['emotion'])\n",
    "\n",
    "X_train = np.array(train_data['bert_embeddings'].tolist())\n",
    "X_test = np.array(test_data['bert_embeddings'].tolist())\n",
    "\n",
    "train_dataset = TensorDataset(torch.tensor(X_train, dtype=torch.float32), torch.tensor(y_train, dtype=torch.long))\n",
    "test_dataset = TensorDataset(torch.tensor(X_test, dtype=torch.float32), torch.tensor(y_test, dtype=torch.long))\n",
    "\n",
    "train_loader = DataLoader(train_dataset, batch_size=64, shuffle=True)\n",
    "test_loader = DataLoader(test_dataset, batch_size=64, shuffle=False)\n",
    "\n",
    "# 訓練模型\n",
    "input_dim = X_train.shape[1]\n",
    "hidden_dim = 128\n",
    "output_dim = len(label_encoder.classes_)\n",
    "\n",
    "model = LSTMWithAttention(input_dim, hidden_dim, output_dim)\n",
    "criterion = nn.CrossEntropyLoss()\n",
    "optimizer = torch.optim.Adam(model.parameters(), lr=1e-3)\n",
    "\n",
    "epochs = 5\n",
    "for epoch in range(epochs):\n",
    "    model.train()\n",
    "    for inputs, labels in train_loader:\n",
    "        optimizer.zero_grad()\n",
    "        outputs = model(inputs)\n",
    "        loss = criterion(outputs, labels)\n",
    "        loss.backward()\n",
    "        optimizer.step()"
   ]
  },
  {
   "cell_type": "code",
   "execution_count": null,
   "id": "a3216ee3-3dcc-46bd-8439-2555eb3b360c",
   "metadata": {},
   "outputs": [],
   "source": [
    "# Voting Classifier\n",
    "voting_clf = VotingClassifier(estimators=[\n",
    "    ('xgb', xgb_model),\n",
    "    ('lstm', lstm_attention_model)\n",
    "], voting='hard')\n",
    "\n",
    "# 注意：LSTM + Attention 的訓練需要使用 DataLoader 和之前的訓練程式碼。\n",
    "# Voting 會將 XGBoost 和 LSTM 的預測結合\n",
    "voting_clf.fit(train_features, y_train)\n",
    "final_predictions = voting_clf.predict(test_features)"
   ]
  },
  {
   "cell_type": "code",
   "execution_count": 8,
   "id": "90bbd4f5-4b16-4947-a04d-f886212ac8bc",
   "metadata": {},
   "outputs": [
    {
     "name": "stdout",
     "output_type": "stream",
     "text": [
      "[[  460   196   638    37  1737   769     4    38]\n",
      " [   32 11747   880   137 10413  1243    14   486]\n",
      " [   70   635  4319   152  5325  3074     9   120]\n",
      " [    6   455   431  1623  3175   653     7    56]\n",
      " [   32  3258  1455   305 42798  2354    28  1251]\n",
      " [   82   979  2585   204  8177  6952    17   198]\n",
      " [    8   235   599    53  2447   781   614    72]\n",
      " [   12  1950   811    78 12834  1042    14  3753]]\n",
      "              precision    recall  f1-score   support\n",
      "\n",
      "       anger       0.66      0.12      0.20      3879\n",
      "anticipation       0.60      0.47      0.53     24952\n",
      "     disgust       0.37      0.32      0.34     13704\n",
      "        fear       0.63      0.25      0.36      6406\n",
      "         joy       0.49      0.83      0.62     51481\n",
      "     sadness       0.41      0.36      0.39     19194\n",
      "    surprise       0.87      0.13      0.22      4809\n",
      "       trust       0.63      0.18      0.28     20494\n",
      "\n",
      "    accuracy                           0.50    144919\n",
      "   macro avg       0.58      0.33      0.37    144919\n",
      "weighted avg       0.53      0.50      0.46    144919\n",
      "\n"
     ]
    }
   ],
   "source": [
    "from sklearn.metrics import classification_report, confusion_matrix\n",
    "\n",
    "# 將數值標籤轉回文字標籤\n",
    "y_pred_val = label_encoder.inverse_transform(y_pred_val_encoded)\n",
    "y_val_split_text = label_encoder.inverse_transform(y_val_split)\n",
    "\n",
    "# 評估模型\n",
    "print(confusion_matrix(y_val_split_text, y_pred_val))\n",
    "print(classification_report(y_val_split_text, y_pred_val))\n"
   ]
  },
  {
   "cell_type": "code",
   "execution_count": 10,
   "id": "9158e6e2-5878-4afe-9677-e61089c837da",
   "metadata": {},
   "outputs": [],
   "source": [
    "# 預測測試集\n",
    "y_test_pred_encoded = xgb_model.predict(X_test)\n",
    "test_df['emotion'] = label_encoder.inverse_transform(y_test_pred_encoded)\n",
    "\n",
    "# 輸出為 submission.csv\n",
    "submission = test_df[['tweet_id', 'emotion']]\n",
    "submission.to_csv('submission_final.csv', index=False)"
   ]
  }
 ],
 "metadata": {
  "kernelspec": {
   "display_name": "Python 3 (ipykernel)",
   "language": "python",
   "name": "python3"
  },
  "language_info": {
   "codemirror_mode": {
    "name": "ipython",
    "version": 3
   },
   "file_extension": ".py",
   "mimetype": "text/x-python",
   "name": "python",
   "nbconvert_exporter": "python",
   "pygments_lexer": "ipython3",
   "version": "3.9.6"
  }
 },
 "nbformat": 4,
 "nbformat_minor": 5
}
